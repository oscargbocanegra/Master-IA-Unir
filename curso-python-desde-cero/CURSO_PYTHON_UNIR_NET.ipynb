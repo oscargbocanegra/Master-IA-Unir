{
 "cells": [
  {
   "cell_type": "markdown",
   "id": "5f97cb62",
   "metadata": {},
   "source": [
    "# TEMA 1: Introduccion a Python\n",
    "\n",
    "## ¿Que es Python?\n",
    " \n",
    " Lenguaje de programación ultimamente usado para temas de ciencias de datos, Inteligencia Artificial y Back End.\n",
    " \n",
    " ## Guia de Estilos Python PEP8\n",
    "\n",
    "Fuente: https://www.python.org/dev/peps/pep0008/\n",
    "\n",
    "# Ventajas de Python.\n",
    "\n",
    "## Tipado dinamico.\n",
    "\n",
    "Python no necesita que se definan el tipo de variable como se hacen con otros lenguajes de programación, Cuando se inicializa una variable, python le asigna el tipo de Valor.\n",
    "\n",
    "## Lenguaje Multiparadigma.\n",
    "\n",
    "Python permite aplicar diferentes paradigmas como Programación orientada a objetos, Java, Programación Imperativa, Programación Funcional.\n",
    "\n",
    "## Interpretado / Scripts.\n",
    "\n",
    "Python se puede ejecutar de forma interpretada o usando scripts, por medio de consolas ejecutando instrucciones.\n",
    "\n",
    "## Extensible.\n",
    "\n",
    "Python tiene una gran cantidad de modulos y librerias que lo hacen extensible y se pueden ejecutar multiples funcionalidades.\n",
    "\n",
    "# Pagina principal para instalación de python.\n",
    "\n",
    "Fuente: https://www.python.org/downloads/"
   ]
  },
  {
   "cell_type": "markdown",
   "id": "4f181e21",
   "metadata": {},
   "source": [
    "# TEMA 2: Primeros conceptos en python.\n",
    "\n",
    "## Identificadores\n",
    "\n",
    "Los Identificadores son nombres que se asignan a elementos y deben cumplir con unas caracteristicas especiales.\n",
    "\n",
    "1. Pueden combinarce con numeros (09) y letras (A-Z) MAYUSCULAS/minusculas y guion bajo (_).\n",
    "2. No pueden comenzar por un digito.\n",
    "3. No pueden usar simbolos especiales (@, !, #, etc).\n",
    "4. Pueden tener cualquier longitud.\n",
    "\n",
    "Python distunguemayusculas de minusculas esto quiere decir que identificador e IDENTIFICADOR son \n",
    "2 identificadores diferentes."
   ]
  },
  {
   "cell_type": "code",
   "execution_count": 2,
   "id": "bf6d7550",
   "metadata": {},
   "outputs": [
    {
     "data": {
      "text/plain": [
       "'\\nComentarios en Bloque\\n'"
      ]
     },
     "execution_count": 2,
     "metadata": {},
     "output_type": "execute_result"
    }
   ],
   "source": [
    "# Identificadores correctos.\n",
    "variable = 1\n",
    "otra_variable = 'Otra'\n",
    "_mas_variables = [1, 2, 3]\n",
    "Variable_4 = True\n",
    "\n",
    "# Identificadores Incorrectos.\n",
    "@variable = 3\n",
    "2_variable = 'Esta mal'"
   ]
  },
  {
   "cell_type": "markdown",
   "id": "eb65e524",
   "metadata": {},
   "source": [
    "## Palabras Reservadas,\n",
    "\n",
    "Python cuenta con varias palabras que son reservada para uso exclusivo de python, por lo tanto no se pueden utilizar.\n",
    "\n",
    "Algunas Variables.\n",
    "and, assert, break, class, continue, def, del, elif, else, except, exec, finally, for, from, global, if, import, \n",
    "in, is, lambda, not, or, pass, print, raise, return, try, while, with, yield."
   ]
  },
  {
   "cell_type": "code",
   "execution_count": 3,
   "id": "52f5387f",
   "metadata": {},
   "outputs": [
    {
     "data": {
      "text/plain": [
       "'\\nComentarios en bloque.\\n\\npara aquellos que ocupen mas de una linea, y se definen por las 3 comillas seguidas\\n'"
      ]
     },
     "execution_count": 3,
     "metadata": {},
     "output_type": "execute_result"
    }
   ],
   "source": [
    "# Comentarios.\n",
    "\n",
    "# Los comentarios son partes del codigo que el interprete de python no ejecuta, se pueden escribir de varias formas.\n",
    "\n",
    "# Comentarios de linea para aquellos que solo ucupan 1 linea y se definen con el simbolo # al inicio.\n",
    "\n",
    "\"\"\"\n",
    "Comentarios en bloque.\n",
    "\n",
    "para aquellos que ocupen mas de una linea, y se definen por las 3 comillas seguidas\n",
    "\"\"\""
   ]
  },
  {
   "cell_type": "markdown",
   "id": "2f83f4e1",
   "metadata": {},
   "source": [
    "## Sangria.\n",
    "\n",
    "Python no usa llaves al igual que otros lenguajes de programación para diferenciar los bloques de codigo, Python usa la sangria o identacion del codigo en bloques haciendo una separacion de 4 espacios hacia la derecha siguiendo las recomendaciones de la guia de estilos PEP 8."
   ]
  },
  {
   "cell_type": "code",
   "execution_count": 7,
   "id": "be85fdf7",
   "metadata": {},
   "outputs": [
    {
     "name": "stdout",
     "output_type": "stream",
     "text": [
      "Aquí pongo el código a ejecutar.\n",
      "Tiene una sangría de 4 espacios.\n"
     ]
    }
   ],
   "source": [
    "# Ejemplo de Sangria.\n",
    "\n",
    "variable = 1\n",
    "\n",
    "if (variable == 1):\n",
    "    print(\"Aquí pongo el código a ejecutar.\")\n",
    "    print(\"Tiene una sangría de 4 espacios.\")"
   ]
  },
  {
   "cell_type": "markdown",
   "id": "88fa827c",
   "metadata": {},
   "source": [
    "## Almacen de Valores.\n",
    "\n",
    "Son elementos que nos permiten almacenar valores en nuestros programas.\n",
    "\n",
    "### Variables.\n",
    "Una variable es un identificador que se le puede asignar un valor para ser retornado en pasos mas adelante.\n",
    "En python se crea una variable por medio del identificador de asignacion que es el simbolo = "
   ]
  },
  {
   "cell_type": "code",
   "execution_count": null,
   "id": "502096f9",
   "metadata": {},
   "outputs": [],
   "source": [
    "# Ejemplo de variable:\n",
    "\n",
    "n = 23\n",
    "saludo = 'Hola! Qué tal?'\n",
    "type(n) # Devuelve int\n",
    "type(saludo) # Devuelve str"
   ]
  },
  {
   "cell_type": "markdown",
   "id": "a4d937c5",
   "metadata": {},
   "source": [
    "### Constantes.\n",
    "\n",
    "Una constante es otra variable con la salvedad que para este tipo de variables, el valor no puede ser modificado.\n",
    "\n",
    "existen 2 formas de crear constantes \n",
    "\n",
    "1. Creando variables en mayuscula\n",
    "2. Creando un Script de python accesible d dentro del proyecto donde se definen las variables y luego se importan."
   ]
  },
  {
   "cell_type": "code",
   "execution_count": 10,
   "id": "4bcc6714",
   "metadata": {},
   "outputs": [
    {
     "name": "stdout",
     "output_type": "stream",
     "text": [
      "El precio final es: 30.25\n"
     ]
    }
   ],
   "source": [
    "# Ejemplo 1 de CONSTANTES\n",
    "\n",
    "IVA = 0.21\n",
    "precio = 25\n",
    "precio_final = precio + (precio * IVA)\n",
    "print(\"El precio final es:\", precio_final)"
   ]
  },
  {
   "cell_type": "code",
   "execution_count": 12,
   "id": "74c88b19",
   "metadata": {},
   "outputs": [
    {
     "name": "stdout",
     "output_type": "stream",
     "text": [
      "El precio final es: 28.75\n"
     ]
    }
   ],
   "source": [
    "# Ejemplo 2 de constantes Importamos el fichero de constantes.\n",
    "\n",
    "import Constantes\n",
    "\n",
    "precio = 25\n",
    "precio_final = precio + (precio * Constantes.IVA)\n",
    "print(\"El precio final es:\", precio_final)"
   ]
  },
  {
   "cell_type": "markdown",
   "id": "5fd88153",
   "metadata": {},
   "source": [
    "## Tipos de Operadores.\n",
    "\n",
    "En python se pueden definir varios tipos de operadores acorde con la operacion y tipo de datos que se desea trabajar.\n",
    "\n",
    "### Datos Numericos.\n",
    "\n",
    "1. Enteros (int): 26, 0b1101 (base binaria), 0x3f4a (base hexadecimal).\n",
    "2. Flotante (float): 3.14, 5., -67.763\n",
    "3. Complejos (complex): 0.117j\n",
    "\n",
    "Con estos tipos de datos se pueden realizar las siguientes operaciones."
   ]
  },
  {
   "cell_type": "code",
   "execution_count": 82,
   "id": "b5d5e14c",
   "metadata": {},
   "outputs": [
    {
     "name": "stdout",
     "output_type": "stream",
     "text": [
      "Suma: 9.129999999999999\n"
     ]
    }
   ],
   "source": [
    "# Definiendo valores para operadores aritmeticos. Suma (+)\n",
    "a = 3.13\n",
    "b = 6 \n",
    "suma = a + b\n",
    "print('Suma: ' + str(suma))"
   ]
  },
  {
   "cell_type": "code",
   "execution_count": 83,
   "id": "e160f12a",
   "metadata": {},
   "outputs": [
    {
     "name": "stdout",
     "output_type": "stream",
     "text": [
      "Resta: -2.87\n"
     ]
    }
   ],
   "source": [
    "# Definiendo valores para operadores aritmeticos. # Resta (-)\n",
    "a = 3.13\n",
    "b = 6 \n",
    "resta = a - b\n",
    "print('Resta: ' + str(resta))"
   ]
  },
  {
   "cell_type": "code",
   "execution_count": 85,
   "id": "bb6671d2",
   "metadata": {},
   "outputs": [
    {
     "name": "stdout",
     "output_type": "stream",
     "text": [
      "Multiplicación: 18.78\n"
     ]
    }
   ],
   "source": [
    "# Definiendo valores para operadores aritmeticos. # Multiplicación (*)\n",
    "a = 3.13\n",
    "b = 6 \n",
    "multiplica = a * b\n",
    "print('Multiplicación: ' + str(multiplica))"
   ]
  },
  {
   "cell_type": "code",
   "execution_count": 87,
   "id": "ddf6a550",
   "metadata": {},
   "outputs": [
    {
     "name": "stdout",
     "output_type": "stream",
     "text": [
      "División: 0.5216666666666666\n"
     ]
    }
   ],
   "source": [
    "# Definiendo valores para operadores aritmeticos. # Divición (/)\n",
    "a = 3.13\n",
    "b = 6 \n",
    "division = a / b\n",
    "print('División: ' + str(division))"
   ]
  },
  {
   "cell_type": "code",
   "execution_count": 88,
   "id": "d1ae4435",
   "metadata": {},
   "outputs": [
    {
     "name": "stdout",
     "output_type": "stream",
     "text": [
      "División Entera: 0.0\n"
     ]
    }
   ],
   "source": [
    "# Definiendo valores para operadores aritmeticos. # División Entera (//)\n",
    "a = 3.13\n",
    "b = 6 \n",
    "division_entera = a // b\n",
    "print('División Entera: ' + str(division_entera))"
   ]
  },
  {
   "cell_type": "code",
   "execution_count": 89,
   "id": "5d97d8c9",
   "metadata": {},
   "outputs": [
    {
     "name": "stdout",
     "output_type": "stream",
     "text": [
      "Modulo: 3.13\n"
     ]
    }
   ],
   "source": [
    "# Definiendo valores para operadores aritmeticos. # Modulo (%)\n",
    "a = 3.13\n",
    "b = 6 \n",
    "modulo = a % b\n",
    "print('Modulo: ' + str(modulo))"
   ]
  },
  {
   "cell_type": "code",
   "execution_count": 91,
   "id": "1f56d0af",
   "metadata": {},
   "outputs": [
    {
     "name": "stdout",
     "output_type": "stream",
     "text": [
      "Exponente: 940.2991105042088\n"
     ]
    }
   ],
   "source": [
    "# Definiendo valores para operadores aritmeticos. # Exponente (**)\n",
    "a = 3.13\n",
    "b = 6 \n",
    "exponente = a ** b\n",
    "print('Exponente: ' + str(exponente))"
   ]
  },
  {
   "cell_type": "markdown",
   "id": "f30a08b9",
   "metadata": {},
   "source": [
    "### Definiendo valores para operadores asignación."
   ]
  },
  {
   "cell_type": "code",
   "execution_count": 61,
   "id": "f89e41dd",
   "metadata": {},
   "outputs": [
    {
     "name": "stdout",
     "output_type": "stream",
     "text": [
      "Asignacion simple (=): 10\n"
     ]
    }
   ],
   "source": [
    "# Asignacion simple (=)\n",
    "\n",
    "resultado = 10\n",
    "print('Asignacion simple (=): ' + str(resultado))"
   ]
  },
  {
   "cell_type": "code",
   "execution_count": 64,
   "id": "9f3b9df4",
   "metadata": {},
   "outputs": [
    {
     "name": "stdout",
     "output_type": "stream",
     "text": [
      "Suma y Asignación (+=): 20\n"
     ]
    }
   ],
   "source": [
    "# Suma y Asignación (+=).\n",
    "resultado = 10\n",
    "resultado += 10\n",
    "print('Suma y Asignación (+=): ' + str(resultado))"
   ]
  },
  {
   "cell_type": "code",
   "execution_count": 66,
   "id": "acef60d5",
   "metadata": {},
   "outputs": [
    {
     "name": "stdout",
     "output_type": "stream",
     "text": [
      "Resta y Asignación (+=): 0\n"
     ]
    }
   ],
   "source": [
    "# Resta y Asignación (-=).\n",
    "resultado = 10\n",
    "resultado -= 10\n",
    "print('Resta y Asignación (+=): ' + str(resultado))"
   ]
  },
  {
   "cell_type": "code",
   "execution_count": 67,
   "id": "30f1fa5a",
   "metadata": {},
   "outputs": [
    {
     "name": "stdout",
     "output_type": "stream",
     "text": [
      "Multiplicacion y Asignación (*=): 100\n"
     ]
    }
   ],
   "source": [
    "# Multiplicacion y Asignación (*=)\n",
    "resultado = 10\n",
    "resultado *= 10\n",
    "print('Multiplicacion y Asignación (*=): ' + str(resultado))"
   ]
  },
  {
   "cell_type": "code",
   "execution_count": 68,
   "id": "ef3063d0",
   "metadata": {},
   "outputs": [
    {
     "name": "stdout",
     "output_type": "stream",
     "text": [
      "Division y Asignación (/=): 1.0\n"
     ]
    }
   ],
   "source": [
    "# Division y asignación\n",
    "resultado = 10\n",
    "resultado /= 10\n",
    "print('Division y Asignación (/=): ' + str(resultado))"
   ]
  },
  {
   "cell_type": "code",
   "execution_count": 69,
   "id": "d669f9cb",
   "metadata": {},
   "outputs": [
    {
     "name": "stdout",
     "output_type": "stream",
     "text": [
      "Division Entera y Asignación (//=): 1\n"
     ]
    }
   ],
   "source": [
    "# Division Entera y asignación\n",
    "resultado = 10\n",
    "resultado //= 10\n",
    "print('Division Entera y Asignación (//=): ' + str(resultado))"
   ]
  },
  {
   "cell_type": "code",
   "execution_count": 71,
   "id": "b855fe8e",
   "metadata": {},
   "outputs": [
    {
     "name": "stdout",
     "output_type": "stream",
     "text": [
      "Modulo y asignación (%=): 4\n"
     ]
    }
   ],
   "source": [
    "# Modulo y asignación\n",
    "resultado = 14\n",
    "resultado %= 10\n",
    "print('Modulo y asignación (%=): ' + str(resultado))"
   ]
  },
  {
   "cell_type": "code",
   "execution_count": 92,
   "id": "3c4fc58f",
   "metadata": {},
   "outputs": [
    {
     "name": "stdout",
     "output_type": "stream",
     "text": [
      "Exponente y asignación (%=): 9\n"
     ]
    }
   ],
   "source": [
    "# Exponente y asignación\n",
    "resultado = 3\n",
    "resultado **= 2\n",
    "print('Exponente y asignación (%=): ' + str(resultado))"
   ]
  },
  {
   "cell_type": "markdown",
   "id": "ba1da96a",
   "metadata": {},
   "source": [
    "### Definiendo valores para operadores de Bits"
   ]
  },
  {
   "cell_type": "code",
   "execution_count": 93,
   "id": "7f5f4bae",
   "metadata": {},
   "outputs": [
    {
     "data": {
      "text/plain": [
       "4"
      ]
     },
     "execution_count": 93,
     "metadata": {},
     "output_type": "execute_result"
    }
   ],
   "source": [
    "# AND (&): operador lógico and a nivel de bits.\n",
    "a = 4\n",
    "b = 5\n",
    "\n",
    "a & b"
   ]
  },
  {
   "cell_type": "code",
   "execution_count": 95,
   "id": "9acaf476",
   "metadata": {},
   "outputs": [
    {
     "data": {
      "text/plain": [
       "5"
      ]
     },
     "execution_count": 95,
     "metadata": {},
     "output_type": "execute_result"
    }
   ],
   "source": [
    "# OR (|): operador lógico or a nivel de bits.\n",
    "a = 4\n",
    "b = 5\n",
    "a | 5"
   ]
  },
  {
   "cell_type": "code",
   "execution_count": 96,
   "id": "cc9ab10a",
   "metadata": {},
   "outputs": [
    {
     "data": {
      "text/plain": [
       "1"
      ]
     },
     "execution_count": 96,
     "metadata": {},
     "output_type": "execute_result"
    }
   ],
   "source": [
    "# XOR (^): operador lógico xor a nivel de bits.\n",
    "a = 4\n",
    "b = 5\n",
    "\n",
    "a ^ b"
   ]
  },
  {
   "cell_type": "code",
   "execution_count": 98,
   "id": "31e160a1",
   "metadata": {},
   "outputs": [
    {
     "data": {
      "text/plain": [
       "0"
      ]
     },
     "execution_count": 98,
     "metadata": {},
     "output_type": "execute_result"
    }
   ],
   "source": [
    "# (>>): operador que mueve todos los bits a la derecha\n",
    "a = 4\n",
    "b = 5\n",
    "\n",
    "a >> b"
   ]
  },
  {
   "cell_type": "markdown",
   "id": "47728117",
   "metadata": {},
   "source": [
    "### Definiendo valores para operadores de datos Booleanos"
   ]
  },
  {
   "cell_type": "code",
   "execution_count": 100,
   "id": "d5dcfa4b",
   "metadata": {},
   "outputs": [
    {
     "data": {
      "text/plain": [
       "False"
      ]
     },
     "execution_count": 100,
     "metadata": {},
     "output_type": "execute_result"
    }
   ],
   "source": [
    "# Datos Booleanos AND (and): operador lógico and.\n",
    "True and False"
   ]
  },
  {
   "cell_type": "code",
   "execution_count": 102,
   "id": "10f9e3a9",
   "metadata": {},
   "outputs": [
    {
     "data": {
      "text/plain": [
       "True"
      ]
     },
     "execution_count": 102,
     "metadata": {},
     "output_type": "execute_result"
    }
   ],
   "source": [
    "# Datos Booleanos OR (or): operador lógico or.\n",
    "True or False # Devolverá True "
   ]
  },
  {
   "cell_type": "code",
   "execution_count": 103,
   "id": "6ebdc1f3",
   "metadata": {},
   "outputs": [
    {
     "data": {
      "text/plain": [
       "False"
      ]
     },
     "execution_count": 103,
     "metadata": {},
     "output_type": "execute_result"
    }
   ],
   "source": [
    "# Datos Booleanos NOT (not): operador de negación lógica.\n",
    "not True # Devolverá False"
   ]
  },
  {
   "cell_type": "code",
   "execution_count": 104,
   "id": "1dafc2bf",
   "metadata": {},
   "outputs": [
    {
     "data": {
      "text/plain": [
       "False"
      ]
     },
     "execution_count": 104,
     "metadata": {},
     "output_type": "execute_result"
    }
   ],
   "source": [
    "# Datos Booleanos Igual (==):\n",
    "5 == 7 # Devolverá False"
   ]
  },
  {
   "cell_type": "code",
   "execution_count": 105,
   "id": "61891ad6",
   "metadata": {},
   "outputs": [
    {
     "data": {
      "text/plain": [
       "False"
      ]
     },
     "execution_count": 105,
     "metadata": {},
     "output_type": "execute_result"
    }
   ],
   "source": [
    "# Datos Booleanos Distinto (!=):\n",
    "7 != 7 # Devolverá False"
   ]
  },
  {
   "cell_type": "markdown",
   "id": "c6e36aac",
   "metadata": {},
   "source": [
    "### Definiendo valores para operadores de cadenas de caracteres\n",
    "\n",
    "- Son secuencias de caracteres encapsuladas en comillas simples ('Texto') o comillas dobles (\"Texto\")"
   ]
  },
  {
   "cell_type": "code",
   "execution_count": 106,
   "id": "79fd9cf9",
   "metadata": {},
   "outputs": [],
   "source": [
    "mensaje = \"Esto es un mensaje de prueba para el curso de Python.\""
   ]
  },
  {
   "cell_type": "code",
   "execution_count": 16,
   "id": "0176144a",
   "metadata": {},
   "outputs": [
    {
     "data": {
      "text/plain": [
       "'e'"
      ]
     },
     "execution_count": 16,
     "metadata": {},
     "output_type": "execute_result"
    }
   ],
   "source": [
    "# Retornando pa posición 34\n",
    "mensaje [34]"
   ]
  },
  {
   "cell_type": "code",
   "execution_count": 17,
   "id": "96c3a215",
   "metadata": {},
   "outputs": [
    {
     "data": {
      "text/plain": [
       "' es un mens'"
      ]
     },
     "execution_count": 17,
     "metadata": {},
     "output_type": "execute_result"
    }
   ],
   "source": [
    "# Retornando un rango de caracteres CADENA[POSICION_INICIAL:POSICION_FINAL]\n",
    "mensaje[4:15]"
   ]
  },
  {
   "cell_type": "code",
   "execution_count": 18,
   "id": "ba635cc6",
   "metadata": {},
   "outputs": [
    {
     "data": {
      "text/plain": [
       "'Esto es un mensaje d'"
      ]
     },
     "execution_count": 18,
     "metadata": {},
     "output_type": "execute_result"
    }
   ],
   "source": [
    "# Retornando desde la posicion Inicial hasta la posicion 20\n",
    "mensaje [:20]"
   ]
  },
  {
   "cell_type": "code",
   "execution_count": 19,
   "id": "aca82f46",
   "metadata": {},
   "outputs": [
    {
     "data": {
      "text/plain": [
       "'so de Python.'"
      ]
     },
     "execution_count": 19,
     "metadata": {},
     "output_type": "execute_result"
    }
   ],
   "source": [
    "# Retornando desde la posicion 40 hasta el final de la cadena de caracteres.\n",
    "mensaje [40:]"
   ]
  },
  {
   "cell_type": "code",
   "execution_count": 20,
   "id": "d300ddda",
   "metadata": {},
   "outputs": [
    {
     "data": {
      "text/plain": [
       "'de Python.'"
      ]
     },
     "execution_count": 20,
     "metadata": {},
     "output_type": "execute_result"
    }
   ],
   "source": [
    "# Retornando desde la posicion -10 (es decir 10 desde la derecha).\n",
    "mensaje [-10:]"
   ]
  },
  {
   "cell_type": "code",
   "execution_count": 21,
   "id": "5babc786",
   "metadata": {},
   "outputs": [
    {
     "data": {
      "text/plain": [
       "'Esto es un mensaje de prueba para el curso '"
      ]
     },
     "execution_count": 21,
     "metadata": {},
     "output_type": "execute_result"
    }
   ],
   "source": [
    "# Retornando desde la posicion inicial hasta la posicion -10 (es decir 10 desde la derecha).\n",
    "mensaje [:-10]"
   ]
  },
  {
   "cell_type": "code",
   "execution_count": 107,
   "id": "8cc94800",
   "metadata": {},
   "outputs": [
    {
     "data": {
      "text/plain": [
       "'Hola Mundo'"
      ]
     },
     "execution_count": 107,
     "metadata": {},
     "output_type": "execute_result"
    }
   ],
   "source": [
    "# Concatenar: Retorna una cadena de caracteres uniendo los caracteres de dos cadenas.\n",
    "\"Hola \" + \"Mundo\""
   ]
  },
  {
   "cell_type": "code",
   "execution_count": 24,
   "id": "f3768e2e",
   "metadata": {},
   "outputs": [
    {
     "data": {
      "text/plain": [
       "'Hola Mundo!!Hola Mundo!!Hola Mundo!!'"
      ]
     },
     "execution_count": 24,
     "metadata": {},
     "output_type": "execute_result"
    }
   ],
   "source": [
    "# Multiplicar: repite la cadena tantas veces como se indica.\n",
    "\"Hola Mundo!!\" * 3"
   ]
  },
  {
   "cell_type": "code",
   "execution_count": 25,
   "id": "5a496dbe",
   "metadata": {},
   "outputs": [
    {
     "data": {
      "text/plain": [
       "53"
      ]
     },
     "execution_count": 25,
     "metadata": {},
     "output_type": "execute_result"
    }
   ],
   "source": [
    "# LEN(): Permite obtener la longitud de la cadena.\n",
    "len(mensaje)"
   ]
  },
  {
   "cell_type": "code",
   "execution_count": 27,
   "id": "8320d9b5",
   "metadata": {},
   "outputs": [
    {
     "data": {
      "text/plain": [
       "46"
      ]
     },
     "execution_count": 27,
     "metadata": {},
     "output_type": "execute_result"
    }
   ],
   "source": [
    "# FIND(): Obtiene la primera posición de la sub cadena que se pasa por parametro\n",
    "mensaje.find('Python')"
   ]
  },
  {
   "cell_type": "code",
   "execution_count": 28,
   "id": "4774fcd1",
   "metadata": {},
   "outputs": [
    {
     "data": {
      "text/plain": [
       "'ESTO ES UN MENSAJE DE PRUEBA PARA EL CURSO DE PYTHON.'"
      ]
     },
     "execution_count": 28,
     "metadata": {},
     "output_type": "execute_result"
    }
   ],
   "source": [
    "# UPPER(): Convierte los caracteres en mayuscula.\n",
    "mensaje.upper()"
   ]
  },
  {
   "cell_type": "code",
   "execution_count": 29,
   "id": "ff3bde2b",
   "metadata": {},
   "outputs": [
    {
     "data": {
      "text/plain": [
       "'esto es un mensaje de prueba para el curso de python.'"
      ]
     },
     "execution_count": 29,
     "metadata": {},
     "output_type": "execute_result"
    }
   ],
   "source": [
    "# LOWER(): Convierte los caracteres en minuscula.\n",
    "mensaje.lower()"
   ]
  },
  {
   "cell_type": "code",
   "execution_count": 30,
   "id": "7afdc59c",
   "metadata": {},
   "outputs": [
    {
     "data": {
      "text/plain": [
       "'Esto es un mensaje de prueba para el seminario de Python.'"
      ]
     },
     "execution_count": 30,
     "metadata": {},
     "output_type": "execute_result"
    }
   ],
   "source": [
    "#REPLACE(): permite modificar el contenido de la cadena (\"Valor a remplazar\", \"Valor Nuevo\")\n",
    "mensaje.replace(\"curso\", \"seminario\")"
   ]
  },
  {
   "cell_type": "code",
   "execution_count": 31,
   "id": "000a6513",
   "metadata": {},
   "outputs": [
    {
     "data": {
      "text/plain": [
       "NoneType"
      ]
     },
     "execution_count": 31,
     "metadata": {},
     "output_type": "execute_result"
    }
   ],
   "source": [
    "# Tipo NONE: se usa para definir el valor de una variable como nada o ninguna cosa\n",
    "variable = None\n",
    "type(variable)"
   ]
  },
  {
   "cell_type": "markdown",
   "id": "72365cf8",
   "metadata": {},
   "source": [
    "### Transformación de tipos de datos."
   ]
  },
  {
   "cell_type": "code",
   "execution_count": 32,
   "id": "121efa4f",
   "metadata": {},
   "outputs": [
    {
     "data": {
      "text/plain": [
       "'10'"
      ]
     },
     "execution_count": 32,
     "metadata": {},
     "output_type": "execute_result"
    }
   ],
   "source": [
    "# Convertir a cadena de caracteres (str): Convierte el objeto que se pasa por parametro a cadena de caracteres\n",
    "valor = 10\n",
    "str(valor)"
   ]
  },
  {
   "cell_type": "code",
   "execution_count": 38,
   "id": "b7cc1dd8",
   "metadata": {},
   "outputs": [
    {
     "data": {
      "text/plain": [
       "21"
      ]
     },
     "execution_count": 38,
     "metadata": {},
     "output_type": "execute_result"
    }
   ],
   "source": [
    "# Convertir a valor entero (int): Convierte el objeto que se pasa por parametro a entero\n",
    "valor1 = \"21\"\n",
    "int(valor1)"
   ]
  },
  {
   "cell_type": "code",
   "execution_count": 39,
   "id": "26b5347d",
   "metadata": {},
   "outputs": [
    {
     "data": {
      "text/plain": [
       "30.0"
      ]
     },
     "execution_count": 39,
     "metadata": {},
     "output_type": "execute_result"
    }
   ],
   "source": [
    "# Convertir a valor flotante (float): Convierte el objeto que se pasa por parametro a flotante\n",
    "valor2 = 30\n",
    "float(valor2)"
   ]
  },
  {
   "cell_type": "code",
   "execution_count": 40,
   "id": "6ad76410",
   "metadata": {},
   "outputs": [
    {
     "data": {
      "text/plain": [
       "(10.78+0j)"
      ]
     },
     "execution_count": 40,
     "metadata": {},
     "output_type": "execute_result"
    }
   ],
   "source": [
    "# Convertir a valor complejo (complex): Convierte el objeto que se pasa por parametro a complex\n",
    "valor3 = 10.78\n",
    "complex(valor3)"
   ]
  },
  {
   "cell_type": "code",
   "execution_count": 46,
   "id": "332f3e43",
   "metadata": {},
   "outputs": [
    {
     "data": {
      "text/plain": [
       "True"
      ]
     },
     "execution_count": 46,
     "metadata": {},
     "output_type": "execute_result"
    }
   ],
   "source": [
    "# Convertir a valor booleano (bool): Convierte el objeto que se pasa por parametro a booleano TRUE or FALSE\n",
    "valor4 = 10.78\n",
    "bool(valor4)"
   ]
  },
  {
   "cell_type": "code",
   "execution_count": 47,
   "id": "94148137",
   "metadata": {},
   "outputs": [
    {
     "data": {
      "text/plain": [
       "False"
      ]
     },
     "execution_count": 47,
     "metadata": {},
     "output_type": "execute_result"
    }
   ],
   "source": [
    "valor5 = False\n",
    "bool(valor5)"
   ]
  },
  {
   "cell_type": "code",
   "execution_count": 48,
   "id": "c9e6eeb2",
   "metadata": {},
   "outputs": [
    {
     "data": {
      "text/plain": [
       "False"
      ]
     },
     "execution_count": 48,
     "metadata": {},
     "output_type": "execute_result"
    }
   ],
   "source": [
    "valor6 = 0\n",
    "bool(valor6)"
   ]
  },
  {
   "cell_type": "markdown",
   "id": "6cf008a7",
   "metadata": {},
   "source": [
    "# TEMA 3. Programación Basica."
   ]
  },
  {
   "cell_type": "markdown",
   "id": "b011d424",
   "metadata": {},
   "source": [
    "## Listas:\n",
    "\n",
    "- Son estructuras de datos con objetos de datos separados por coma (,)\n",
    "- Son MUTABLES: Se puede cambiar el valor la lista (Cambiar el orden de los elementos, eliminar elementos).\n",
    "- Pueden contener elementos de diferente tipos o estructuras.\n",
    "- Se declaran entre corchetes ([objeto1,objeto2,objetoN])"
   ]
  },
  {
   "cell_type": "code",
   "execution_count": 109,
   "id": "fe9236c1",
   "metadata": {},
   "outputs": [
    {
     "name": "stdout",
     "output_type": "stream",
     "text": [
      "[5, 'Hola Mundo', True]\n"
     ]
    }
   ],
   "source": [
    "lista = [5, 'Hola Mundo', True]\n",
    "print(lista)"
   ]
  },
  {
   "cell_type": "code",
   "execution_count": 111,
   "id": "fbda7802",
   "metadata": {},
   "outputs": [
    {
     "data": {
      "text/plain": [
       "'Hola Mundo'"
      ]
     },
     "execution_count": 111,
     "metadata": {},
     "output_type": "execute_result"
    }
   ],
   "source": [
    "# Para acceder a la posicion de una lista se le pasa el indice del elemento. El primer elemento de la lista es 0\n",
    "lista = [5, 'Hola Mundo', True]\n",
    "lista[1]"
   ]
  },
  {
   "cell_type": "code",
   "execution_count": 112,
   "id": "5b4acaee",
   "metadata": {},
   "outputs": [
    {
     "data": {
      "text/plain": [
       "['Lunes', 'Martes']"
      ]
     },
     "execution_count": 112,
     "metadata": {},
     "output_type": "execute_result"
    }
   ],
   "source": [
    "# (:) Rango de Indices: Permite acceder a un conjunto de elementos de una lista.\n",
    "l_dias_semana = ['Lunes','Martes','Miercoles','Jueves','Viernes','Sabado','Domingo']\n",
    "l_dias_semana[:2]"
   ]
  },
  {
   "cell_type": "code",
   "execution_count": 114,
   "id": "f58605c5",
   "metadata": {},
   "outputs": [
    {
     "data": {
      "text/plain": [
       "['Jueves', 'Viernes', 'Sabado', 'Domingo']"
      ]
     },
     "execution_count": 114,
     "metadata": {},
     "output_type": "execute_result"
    }
   ],
   "source": [
    "l_dias_semana = ['Lunes','Martes','Miercoles','Jueves','Viernes','Sabado','Domingo']\n",
    "l_dias_semana[3:]"
   ]
  },
  {
   "cell_type": "code",
   "execution_count": 115,
   "id": "e682046e",
   "metadata": {},
   "outputs": [
    {
     "data": {
      "text/plain": [
       "'Sabado'"
      ]
     },
     "execution_count": 115,
     "metadata": {},
     "output_type": "execute_result"
    }
   ],
   "source": [
    "# Cuando se usan valores Negativos (-) python devuelve los elementos a partir de la posicion de la derecha\n",
    "l_dias_semana = ['Lunes','Martes','Miercoles','Jueves','Viernes','Sabado','Domingo']\n",
    "l_dias_semana[-2]"
   ]
  },
  {
   "cell_type": "markdown",
   "id": "2e1a01b4",
   "metadata": {},
   "source": [
    "## Funciones aplicables a las listas."
   ]
  },
  {
   "cell_type": "code",
   "execution_count": 116,
   "id": "63fe6bc5",
   "metadata": {},
   "outputs": [
    {
     "data": {
      "text/plain": [
       "7"
      ]
     },
     "execution_count": 116,
     "metadata": {},
     "output_type": "execute_result"
    }
   ],
   "source": [
    "# LEN: Retorna la longitud de una lista\n",
    "l_dias_semana = ['Lunes','Martes','Miercoles','Jueves','Viernes','Sabado','Domingo']\n",
    "len(l_dias_semana)"
   ]
  },
  {
   "cell_type": "code",
   "execution_count": 118,
   "id": "603f82b1",
   "metadata": {},
   "outputs": [
    {
     "data": {
      "text/plain": [
       "3"
      ]
     },
     "execution_count": 118,
     "metadata": {},
     "output_type": "execute_result"
    }
   ],
   "source": [
    "# INDEX: Retorna la posicion que ocupa un elemento de la lista\n",
    "l_dias_semana = ['Lunes','Martes','Miercoles','Jueves','Viernes','Sabado','Domingo']\n",
    "l_dias_semana.index('Jueves')"
   ]
  },
  {
   "cell_type": "code",
   "execution_count": 119,
   "id": "4352d28c",
   "metadata": {},
   "outputs": [
    {
     "data": {
      "text/plain": [
       "['Lunes',\n",
       " 'Martes',\n",
       " 'Miercoles',\n",
       " 'Jueves',\n",
       " 'Viernes',\n",
       " 'Sabado',\n",
       " 'Domingo',\n",
       " 'Festivos']"
      ]
     },
     "execution_count": 119,
     "metadata": {},
     "output_type": "execute_result"
    }
   ],
   "source": [
    "# INSERT: Inserta un elemento de la lista en la posición que se le indica. INSERT (POSICIÓN, OBJETO)\n",
    "l_dias_semana = ['Lunes','Martes','Miercoles','Jueves','Viernes','Sabado','Domingo']\n",
    "l_dias_semana.insert(7, 'Festivos')\n",
    "l_dias_semana"
   ]
  },
  {
   "cell_type": "code",
   "execution_count": 122,
   "id": "389e9770",
   "metadata": {},
   "outputs": [
    {
     "data": {
      "text/plain": [
       "[1, 2, 3, 4, 5, 6, 7, 8, [9, 10]]"
      ]
     },
     "execution_count": 122,
     "metadata": {},
     "output_type": "execute_result"
    }
   ],
   "source": [
    "# APPEND: Inserta un elemento al final de la lista.\n",
    "l_numeros = [1,2,3,4,5,6,7,8]\n",
    "l_numeros.append([9,10])\n",
    "l_numeros"
   ]
  },
  {
   "cell_type": "code",
   "execution_count": 124,
   "id": "422b93b1",
   "metadata": {},
   "outputs": [
    {
     "data": {
      "text/plain": [
       "[1, 2, 3, 4, 5, 6, 7, 8, 9, 10]"
      ]
     },
     "execution_count": 124,
     "metadata": {},
     "output_type": "execute_result"
    }
   ],
   "source": [
    "# EXTEND: agrega un elemento o conjunto de elementos a la lista.\n",
    "l_numeros = [1,2,3,4,5,6,7,8]\n",
    "l_numeros.extend([9,10])\n",
    "l_numeros"
   ]
  },
  {
   "cell_type": "code",
   "execution_count": 126,
   "id": "37efa895",
   "metadata": {},
   "outputs": [
    {
     "data": {
      "text/plain": [
       "['Lunes', 'Martes', 'Miercoles', 'Jueves', 'Viernes', 'Sabado', 'Domingo']"
      ]
     },
     "execution_count": 126,
     "metadata": {},
     "output_type": "execute_result"
    }
   ],
   "source": [
    "# REMOVE: elimina el elemento que se pasa por parametro de la lista.\n",
    "l_dias_semana = ['Lunes', 'Martes', 'Miercoles', 'Jueves', 'Viernes', 'Sabado', 'Domingo', 'Festivos']\n",
    "l_dias_semana.remove('Festivos')\n",
    "l_dias_semana"
   ]
  },
  {
   "cell_type": "code",
   "execution_count": 128,
   "id": "c4389b29",
   "metadata": {},
   "outputs": [
    {
     "data": {
      "text/plain": [
       "2"
      ]
     },
     "execution_count": 128,
     "metadata": {},
     "output_type": "execute_result"
    }
   ],
   "source": [
    "# COUNT: Retorna el numero de veces que se encuentra un elemento en la lista\n",
    "l_dias_semana = ['Lunes', 'Martes', 'Miercoles', 'Jueves', 'Viernes', 'Sabado', 'Domingo', 'Viernes']\n",
    "l_dias_semana.count('Viernes')"
   ]
  },
  {
   "cell_type": "code",
   "execution_count": 130,
   "id": "bd0fb6d2",
   "metadata": {},
   "outputs": [
    {
     "data": {
      "text/plain": [
       "['Domingo', 'Sabado', 'Viernes', 'Jueves', 'Miercoles', 'Martes', 'Lunes']"
      ]
     },
     "execution_count": 130,
     "metadata": {},
     "output_type": "execute_result"
    }
   ],
   "source": [
    "# REVERSE: invierte la posición de todos los elementos de una lista\n",
    "l_dias_semana = ['Lunes', 'Martes', 'Miercoles', 'Jueves', 'Viernes', 'Sabado', 'Domingo']\n",
    "l_dias_semana.reverse()\n",
    "l_dias_semana"
   ]
  },
  {
   "cell_type": "code",
   "execution_count": 131,
   "id": "351e4d7a",
   "metadata": {},
   "outputs": [
    {
     "data": {
      "text/plain": [
       "[1, 2, 3, 4, 5, 6, 7, 8, 9]"
      ]
     },
     "execution_count": 131,
     "metadata": {},
     "output_type": "execute_result"
    }
   ],
   "source": [
    "# SORT: ordena los elementos de una lista\n",
    "lista = [1,5,9,7,6,3,2,8,4]\n",
    "lista.sort()\n",
    "lista"
   ]
  },
  {
   "cell_type": "code",
   "execution_count": 132,
   "id": "be48fc44",
   "metadata": {},
   "outputs": [
    {
     "data": {
      "text/plain": [
       "[9, 8, 7, 6, 5, 4, 3, 2, 1]"
      ]
     },
     "execution_count": 132,
     "metadata": {},
     "output_type": "execute_result"
    }
   ],
   "source": [
    "# SORT(reverse=TRUE): ordena los elementos de una lista en sentido inverso al inicial\n",
    "lista = [1,5,9,7,6,3,2,8,4]\n",
    "lista.sort(reverse=True)\n",
    "lista"
   ]
  },
  {
   "cell_type": "code",
   "execution_count": 134,
   "id": "446a42b5",
   "metadata": {},
   "outputs": [
    {
     "data": {
      "text/plain": [
       "5"
      ]
     },
     "execution_count": 134,
     "metadata": {},
     "output_type": "execute_result"
    }
   ],
   "source": [
    "#POP: Elimina y devuelve el elemento que se encuentra en la posicion que se pasa por parametro.\n",
    "lista = [1,5,9,7,6,3,2,8,4]\n",
    "lista.pop(1)"
   ]
  },
  {
   "cell_type": "markdown",
   "id": "df7856b2",
   "metadata": {},
   "source": [
    "## Tuplas:\n",
    "\n",
    "- Son un conjunto de elemnetos separado por coma (,).\n",
    "- Son INMUTABLES No se pueden modificar una vez creadas.\n",
    "- Para acceder a los elelmentos de la tupla se hace igual que las listas TUPLA [INDICE]"
   ]
  },
  {
   "cell_type": "code",
   "execution_count": 135,
   "id": "df84aa44",
   "metadata": {},
   "outputs": [
    {
     "data": {
      "text/plain": [
       "('Hola Mundo', 3.4, True, 'Hola')"
      ]
     },
     "execution_count": 135,
     "metadata": {},
     "output_type": "execute_result"
    }
   ],
   "source": [
    "tupla = 'Hola Mundo', 3.4, True, 'Hola'\n",
    "tupla"
   ]
  },
  {
   "cell_type": "code",
   "execution_count": 137,
   "id": "c55fdd36",
   "metadata": {},
   "outputs": [
    {
     "data": {
      "text/plain": [
       "3.4"
      ]
     },
     "execution_count": 137,
     "metadata": {},
     "output_type": "execute_result"
    }
   ],
   "source": [
    "# Accediendo a los elementos de la tupla\n",
    "tupla = 'Hola Mundo', 3.4, True, 'Hola'\n",
    "tupla[1]"
   ]
  },
  {
   "cell_type": "markdown",
   "id": "7d5b30fe",
   "metadata": {},
   "source": [
    "## Funciones aplicables a las Tuplas."
   ]
  },
  {
   "cell_type": "code",
   "execution_count": 138,
   "id": "0b818354",
   "metadata": {},
   "outputs": [
    {
     "data": {
      "text/plain": [
       "7"
      ]
     },
     "execution_count": 138,
     "metadata": {},
     "output_type": "execute_result"
    }
   ],
   "source": [
    "# LEN: Metodo que retorna la longitud de la tupla\n",
    "tupla_dias_semana = 'Lunes', 'Martes', 'Miercoles', 'Jueves', 'Viernes', 'Sabado', 'Domingo'\n",
    "len(tupla_dias_semana)"
   ]
  },
  {
   "cell_type": "code",
   "execution_count": 139,
   "id": "fb945db5",
   "metadata": {},
   "outputs": [
    {
     "data": {
      "text/plain": [
       "2"
      ]
     },
     "execution_count": 139,
     "metadata": {},
     "output_type": "execute_result"
    }
   ],
   "source": [
    "# COUNT: Numero de veces que se encuentra un elemento en la tupla.\n",
    "tupla_dias_semana = 'Lunes', 'Martes', 'Miercoles', 'Jueves', 'Viernes', 'Sabado', 'Domingo', 'Viernes'\n",
    "tupla_dias_semana.count('Viernes')"
   ]
  },
  {
   "cell_type": "code",
   "execution_count": 140,
   "id": "7197423f",
   "metadata": {},
   "outputs": [
    {
     "data": {
      "text/plain": [
       "5"
      ]
     },
     "execution_count": 140,
     "metadata": {},
     "output_type": "execute_result"
    }
   ],
   "source": [
    "# INDEX: Retorna la posicion que ocupa el lemento.\n",
    "tupla_dias_semana = 'Lunes', 'Martes', 'Miercoles', 'Jueves', 'Viernes', 'Sabado', 'Domingo'\n",
    "tupla_dias_semana.index('Sabado')"
   ]
  },
  {
   "cell_type": "markdown",
   "id": "15272589",
   "metadata": {},
   "source": [
    "## Diccionarios.\n",
    "\n",
    "- Son una estructura de datos definido como conjunto de pares clave:valor\n",
    "- Claves(keys) son unics y estan en lugar de indices \n",
    "- Se accede a travez de su clave.\n",
    "- Se crean por medio de llaves {}"
   ]
  },
  {
   "cell_type": "code",
   "execution_count": 144,
   "id": "c79a112e",
   "metadata": {},
   "outputs": [
    {
     "data": {
      "text/plain": [
       "{'01': 'Lunes',\n",
       " '02': 'Martes',\n",
       " '03': 'Miercoles',\n",
       " '04': 'Jueves',\n",
       " '05': 'Viernes',\n",
       " '06': 'Sabado',\n",
       " '07': 'Domingo'}"
      ]
     },
     "execution_count": 144,
     "metadata": {},
     "output_type": "execute_result"
    }
   ],
   "source": [
    "# Creando diccionario dias de la semana\n",
    "diccionario_dias_semana = {\n",
    "    '01':'Lunes',\n",
    "    '02':'Martes',\n",
    "    '03':'Miercoles',\n",
    "    '04':'Jueves',\n",
    "    '05':'Viernes',\n",
    "    '06':'Sabado',\n",
    "    '07':'Domingo'}\n",
    "\n",
    "diccionario_dias_semana"
   ]
  },
  {
   "cell_type": "code",
   "execution_count": 147,
   "id": "c2a21f7c",
   "metadata": {},
   "outputs": [
    {
     "data": {
      "text/plain": [
       "'Viernes'"
      ]
     },
     "execution_count": 147,
     "metadata": {},
     "output_type": "execute_result"
    }
   ],
   "source": [
    "# Para acceder a uno de los valores es necesario conocer la clave y se accede en corchetes.\n",
    "diccionario_dias_semana['05']"
   ]
  },
  {
   "cell_type": "code",
   "execution_count": 148,
   "id": "1f8e7ac4",
   "metadata": {},
   "outputs": [
    {
     "data": {
      "text/plain": [
       "{'01': 'Lunes',\n",
       " '02': 'Martes',\n",
       " '03': 'Miercoles',\n",
       " '04': 'Jueves',\n",
       " '05': 'Viernes',\n",
       " '06': 'Sabado',\n",
       " '07': 'Domingo',\n",
       " '08': 'Festivos'}"
      ]
     },
     "execution_count": 148,
     "metadata": {},
     "output_type": "execute_result"
    }
   ],
   "source": [
    "# Creando nuevo elemento en el diccionario.\n",
    "diccionario_dias_semana['08'] = 'Festivos'\n",
    "diccionario_dias_semana"
   ]
  },
  {
   "cell_type": "code",
   "execution_count": 149,
   "id": "4de61399",
   "metadata": {},
   "outputs": [
    {
     "data": {
      "text/plain": [
       "dict"
      ]
     },
     "execution_count": 149,
     "metadata": {},
     "output_type": "execute_result"
    }
   ],
   "source": [
    "# DICT(): Me permite crear un diccionario nuevo sin ningun elemento.\n",
    "\n",
    "diccionario_vacio = dict()\n",
    "type(diccionario_vacio)"
   ]
  },
  {
   "cell_type": "markdown",
   "id": "e03f640a",
   "metadata": {},
   "source": [
    "## Funciones aplicables a los Diccionarios."
   ]
  },
  {
   "cell_type": "code",
   "execution_count": 151,
   "id": "ed51bdff",
   "metadata": {},
   "outputs": [
    {
     "data": {
      "text/plain": [
       "['01', '02', '03', '04', '05', '06', '07']"
      ]
     },
     "execution_count": 151,
     "metadata": {},
     "output_type": "execute_result"
    }
   ],
   "source": [
    "# LIST: devuelve una lista de todas las claves incluidas en un diccionario\n",
    "diccionario_dias_semana = {\n",
    "    '01':'Lunes',\n",
    "    '02':'Martes',\n",
    "    '03':'Miercoles',\n",
    "    '04':'Jueves',\n",
    "    '05':'Viernes',\n",
    "    '06':'Sabado',\n",
    "    '07':'Domingo'}\n",
    "\n",
    "list(diccionario_dias_semana)"
   ]
  },
  {
   "cell_type": "code",
   "execution_count": 152,
   "id": "6038be32",
   "metadata": {},
   "outputs": [
    {
     "data": {
      "text/plain": [
       "['01', '02', '03', '04', '05', '06', '07']"
      ]
     },
     "execution_count": 152,
     "metadata": {},
     "output_type": "execute_result"
    }
   ],
   "source": [
    "# SORTED: Ordena la lista del diccionario.\n",
    "sorted(diccionario_dias_semana)"
   ]
  },
  {
   "cell_type": "code",
   "execution_count": 153,
   "id": "6d7a7fa4",
   "metadata": {},
   "outputs": [
    {
     "data": {
      "text/plain": [
       "False"
      ]
     },
     "execution_count": 153,
     "metadata": {},
     "output_type": "execute_result"
    }
   ],
   "source": [
    "# IN: Comprueba si una clave se encuentra en el diccionario.\n",
    "'08' in diccionario_dias_semana"
   ]
  },
  {
   "cell_type": "code",
   "execution_count": 155,
   "id": "e19527a9",
   "metadata": {},
   "outputs": [
    {
     "data": {
      "text/plain": [
       "{'01': 'Lunes',\n",
       " '02': 'Martes',\n",
       " '03': 'Miercoles',\n",
       " '04': 'Jueves',\n",
       " '05': 'Viernes',\n",
       " '06': 'Sabado',\n",
       " '07': 'Domingo'}"
      ]
     },
     "execution_count": 155,
     "metadata": {},
     "output_type": "execute_result"
    }
   ],
   "source": [
    "# DEL: Elimina un elemento del diccionario.\n",
    "diccionario_dias_semana = {\n",
    "    '01': 'Lunes',\n",
    "    '02': 'Martes',\n",
    "    '03': 'Miercoles',\n",
    "    '04': 'Jueves',\n",
    "    '05': 'Viernes',\n",
    "    '06': 'Sabado',\n",
    "    '07': 'Domingo',\n",
    "    '08': 'Festivos'}\n",
    "del diccionario_dias_semana['08']\n",
    "diccionario_dias_semana"
   ]
  },
  {
   "cell_type": "markdown",
   "id": "f72414a2",
   "metadata": {},
   "source": [
    "## Conjuntos.\n",
    "\n",
    "- Son colecciones NO ordenadas de elementos.\n",
    "- No contienen repetición de elementos.\n",
    "- Se crean los conjuntos por elementos separados por coma (,) y delimitados por llaves {}\n",
    "- No se puede acceder a los elementos a traves del indice dado que no son de tipo lista ordenada."
   ]
  },
  {
   "cell_type": "code",
   "execution_count": 159,
   "id": "ba431162",
   "metadata": {},
   "outputs": [
    {
     "data": {
      "text/plain": [
       "{'audi', 'ferrari', 'mercedes', 'renault', 'seat'}"
      ]
     },
     "execution_count": 159,
     "metadata": {},
     "output_type": "execute_result"
    }
   ],
   "source": [
    "# Creando un conjunto de marcas de carros.\n",
    "conjunto_carros = {'audi', 'mercedes', 'seat', 'ferrari', 'ferrari', 'renault'}\n",
    "conjunto_carros"
   ]
  },
  {
   "cell_type": "code",
   "execution_count": 160,
   "id": "c89eb1a2",
   "metadata": {},
   "outputs": [],
   "source": [
    "# SET: Funcion que permite crear un conjunto vacio\n",
    "conjunto_vacio = set()"
   ]
  },
  {
   "cell_type": "markdown",
   "id": "4607eb31",
   "metadata": {},
   "source": [
    "## Funciones aplicables a los Conjuntos."
   ]
  },
  {
   "cell_type": "code",
   "execution_count": 162,
   "id": "ea73364c",
   "metadata": {},
   "outputs": [
    {
     "data": {
      "text/plain": [
       "{1, 2, 3, 4, 5}"
      ]
     },
     "execution_count": 162,
     "metadata": {},
     "output_type": "execute_result"
    }
   ],
   "source": [
    "# UNION: Operación matematica que retorna la union de dos conjuntos.\n",
    "conjunto1 = {1,2,3}\n",
    "conjunto2 = {3,4,5}\n",
    "conjunto1.union(conjunto2)"
   ]
  },
  {
   "cell_type": "code",
   "execution_count": 163,
   "id": "5333077d",
   "metadata": {},
   "outputs": [
    {
     "data": {
      "text/plain": [
       "{3}"
      ]
     },
     "execution_count": 163,
     "metadata": {},
     "output_type": "execute_result"
    }
   ],
   "source": [
    "# INTERSECTION: operación matematica para obtener la interseccion de 2 conjuntos.\n",
    "conjunto1 = {1,2,3}\n",
    "conjunto2 = {3,4,5}\n",
    "conjunto1.intersection(conjunto2)"
   ]
  },
  {
   "cell_type": "code",
   "execution_count": 164,
   "id": "574b1a84",
   "metadata": {},
   "outputs": [
    {
     "data": {
      "text/plain": [
       "{1, 2}"
      ]
     },
     "execution_count": 164,
     "metadata": {},
     "output_type": "execute_result"
    }
   ],
   "source": [
    "# DIFERENCE: Se obtiene la diferencia de 2 conjuntos.\n",
    "conjunto1 = {1,2,3}\n",
    "conjunto2 = {3,4,5}\n",
    "conjunto1.difference(conjunto2)"
   ]
  },
  {
   "cell_type": "code",
   "execution_count": 165,
   "id": "f3cf9610",
   "metadata": {},
   "outputs": [
    {
     "data": {
      "text/plain": [
       "True"
      ]
     },
     "execution_count": 165,
     "metadata": {},
     "output_type": "execute_result"
    }
   ],
   "source": [
    "# IN: Comprueba si un elemento se encuentra dentro del conjunto.\n",
    "conjunto1 = {1,2,3,4,5,6,7}\n",
    "3 in conjunto1"
   ]
  },
  {
   "cell_type": "code",
   "execution_count": 166,
   "id": "6aa3035f",
   "metadata": {},
   "outputs": [
    {
     "data": {
      "text/plain": [
       "7"
      ]
     },
     "execution_count": 166,
     "metadata": {},
     "output_type": "execute_result"
    }
   ],
   "source": [
    "# LEN: retorna la longitud del conjunto.\n",
    "conjunto1 = {1,2,3,4,5,6,7}\n",
    "len(conjunto1)"
   ]
  },
  {
   "cell_type": "markdown",
   "id": "e1280fec",
   "metadata": {},
   "source": [
    "## Ejecuciones condicionales."
   ]
  },
  {
   "cell_type": "code",
   "execution_count": 1,
   "id": "541c19c4",
   "metadata": {},
   "outputs": [
    {
     "name": "stdout",
     "output_type": "stream",
     "text": [
      "Escribe un numero de 1 a 10\n",
      "6\n",
      "!Soy mayor de 5\n"
     ]
    }
   ],
   "source": [
    "## Expresión if: Ejecuta un bloque de instrucciones solo si la expresion logica es TRUE.\n",
    "\"\"\"\n",
    "if (EXPRESION_LOGICA):\n",
    " sentencia_1\n",
    " sentencia_2\n",
    "\"\"\"\n",
    "print(\"Escribe un numero de 1 a 10\")\n",
    "number = int(input())\n",
    "if(number > 5 ):\n",
    "    print(\"!Soy mayor de 5\")"
   ]
  },
  {
   "cell_type": "code",
   "execution_count": 2,
   "id": "213506a1",
   "metadata": {},
   "outputs": [
    {
     "name": "stdout",
     "output_type": "stream",
     "text": [
      "Escribe un número de 1 a 10\n",
      "5\n",
      "Soy menor o igual que 5\n"
     ]
    }
   ],
   "source": [
    "# Expresion ELSE: Se ejecuta cuando el bloque IF no cumple con la condicion TRUE.\n",
    "\"\"\"\n",
    "if (EXPRESION_LOGICA):\n",
    " sentencia_1\n",
    " sentencia_2\n",
    " ...\n",
    "else:\n",
    " sentencia_1\n",
    " sentencia_2\n",
    " ...\n",
    "\"\"\"\n",
    "print(\"Escribe un número de 1 a 10\")\n",
    "number = int(input())\n",
    "if (number > 5):\n",
    " print(\"¡Soy mayor que 5!\")\n",
    "else:\n",
    " print(\"Soy menor o igual que 5\")"
   ]
  },
  {
   "cell_type": "code",
   "execution_count": 4,
   "id": "1e8c2ece",
   "metadata": {},
   "outputs": [
    {
     "name": "stdout",
     "output_type": "stream",
     "text": [
      "Escribe un número de 1 a 10\n",
      "5\n",
      "Soy el número 5\n"
     ]
    }
   ],
   "source": [
    "# Expresion ELIF: permite validar mas condiones dentro de un IF.\n",
    "\"\"\"\n",
    "if (EXPRESION_LOGICA):\n",
    " sentencia_1\n",
    " ...\n",
    "elif (EXPRESION_LOGICA_2):\n",
    " sentencia_1\n",
    " ...\n",
    "elif (EXPRESION_LOGICA_3):\n",
    " sentencia_1\n",
    " ...\n",
    "...\n",
    "else:\n",
    " sentencia_1\n",
    " sentencia_2\n",
    " ...\n",
    "\"\"\"\n",
    "print(\"Escribe un número de 1 a 10\")\n",
    "number = int(input())\n",
    "if (number > 5):\n",
    " print(\"¡Soy mayor que 5!\")\n",
    "elif (number == 5):\n",
    " print(\"Soy el número 5\")\n",
    "else:\n",
    " print(\"Soy menor o igual que 5\")"
   ]
  },
  {
   "cell_type": "markdown",
   "id": "bd9cf32b",
   "metadata": {},
   "source": [
    "## Ejecuciones Iterativas"
   ]
  },
  {
   "cell_type": "code",
   "execution_count": 6,
   "id": "26941de6",
   "metadata": {},
   "outputs": [
    {
     "name": "stdout",
     "output_type": "stream",
     "text": [
      "9\n",
      "8\n",
      "7\n",
      "6\n",
      "5\n",
      "4\n",
      "3\n",
      "2\n",
      "1\n",
      "0\n"
     ]
    }
   ],
   "source": [
    "# BUCLE WHILE: repite un bloque de codigo mientras se cumpla una condición definida y su retorno sea FALSE.\n",
    "\"\"\"\n",
    "while (EXPRESION_LOGICA):\n",
    " sentencia_1\n",
    " sentencia_2\n",
    "\"\"\"\n",
    "\n",
    "# Imprimir secuencia de numeros desde el numero 10 hasta el numero 0\n",
    "numero = 10\n",
    "fin = 0\n",
    "while(numero > fin):\n",
    "    numero -=1\n",
    "    print(numero)"
   ]
  },
  {
   "cell_type": "code",
   "execution_count": 7,
   "id": "a1eb69fb",
   "metadata": {},
   "outputs": [
    {
     "name": "stdout",
     "output_type": "stream",
     "text": [
      "5\n",
      "4\n",
      "3\n",
      "2\n",
      "1\n",
      "0\n",
      "Fin del recorrido\n"
     ]
    }
   ],
   "source": [
    "# BUCLE FOR: recorre un conjunto de elementos en cualquier sentido\n",
    "\"\"\"\n",
    "for VARIABLE in OBJETO:\n",
    " sentencia_1\n",
    " sentencia_2\n",
    "\"\"\"\n",
    "numeros = [5,4,3,2,1,0]\n",
    "for numero in numeros:\n",
    "    print(numero)\n",
    "else:\n",
    "    print(\"Fin del recorrido\")"
   ]
  },
  {
   "cell_type": "code",
   "execution_count": 9,
   "id": "3524808e",
   "metadata": {},
   "outputs": [
    {
     "name": "stdout",
     "output_type": "stream",
     "text": [
      "H\n",
      "o\n",
      "l\n",
      "a\n",
      " \n",
      "M\n",
      "u\n",
      "n\n",
      "d\n",
      "o\n"
     ]
    }
   ],
   "source": [
    "cadena = \"Hola Mundo\"\n",
    "for i in range(0,len(cadena),1):\n",
    "    print(cadena[i])"
   ]
  },
  {
   "cell_type": "code",
   "execution_count": 10,
   "id": "7f2c2954",
   "metadata": {},
   "outputs": [
    {
     "name": "stdout",
     "output_type": "stream",
     "text": [
      "0\n",
      "1\n",
      "2\n",
      "3\n",
      "4\n",
      "Rompe el bucle\n"
     ]
    }
   ],
   "source": [
    "#BREAK: es una sentencia que permite romper el ciclo.\n",
    "numeros = list(range(10))\n",
    "for n in numeros:\n",
    "    if (n == 5):\n",
    "        print(\"Rompe el bucle\")\n",
    "        break\n",
    "    print(n)"
   ]
  },
  {
   "cell_type": "code",
   "execution_count": 11,
   "id": "b8ae285e",
   "metadata": {},
   "outputs": [
    {
     "name": "stdout",
     "output_type": "stream",
     "text": [
      "0\n",
      "1\n",
      "2\n",
      "3\n",
      "4\n",
      "Saltando la vuelta 5\n",
      "6\n",
      "7\n",
      "8\n",
      "9\n"
     ]
    }
   ],
   "source": [
    "#CONTINUE: Es otra sentencia que permite saltar una iteración del bucle sin romper todo el ciclo.\n",
    "numeros = list(range(10))\n",
    "for n in numeros:\n",
    "    if (n == 5):\n",
    "        print(\"Saltando la vuelta 5\")\n",
    "        continue\n",
    "    print(n)"
   ]
  },
  {
   "cell_type": "code",
   "execution_count": 17,
   "id": "6cf10a14",
   "metadata": {},
   "outputs": [
    {
     "data": {
      "text/plain": [
       "'a'"
      ]
     },
     "execution_count": 17,
     "metadata": {},
     "output_type": "execute_result"
    }
   ],
   "source": [
    "#ITERADORES: es un objeto que oermite iterar sobre otro para obtener el siguiente elemento iter(objeto) \n",
    "#para consultar el objetonext()\n",
    "cadena = \"Hola\"\n",
    "iterador = iter(cadena)\n",
    "next(iterador)\n",
    "next(iterador)\n",
    "next(iterador)\n",
    "next(iterador)"
   ]
  },
  {
   "cell_type": "markdown",
   "id": "16db7b2d",
   "metadata": {},
   "source": [
    "## Definición de Funciones\n",
    "\n",
    "- Permiten encapsular un bloque de instrucciones que pueden ser reutilizados."
   ]
  },
  {
   "cell_type": "code",
   "execution_count": 1,
   "id": "430d6d6a",
   "metadata": {},
   "outputs": [
    {
     "data": {
      "text/plain": [
       "15.0"
      ]
     },
     "execution_count": 1,
     "metadata": {},
     "output_type": "execute_result"
    }
   ],
   "source": [
    "\"\"\"\n",
    "def NOMBRE_FUNCION(ARG1, ARG2,...):\n",
    "    sentencia_1\n",
    "    sentencia_2\n",
    "    ...\n",
    "    return OBJETO_DEVOLVER\n",
    "\"\"\"\n",
    "def area_triangulo(base, altura):\n",
    "    area = (base * altura) / 2\n",
    "    return area\n",
    "\n",
    "# Invocando la funcion pasando argumentos\n",
    "area_triangulo(6, 5)"
   ]
  },
  {
   "cell_type": "markdown",
   "id": "c668980a",
   "metadata": {},
   "source": [
    "### Parametros y Argumentos\n",
    "\n",
    "- Los parametros son los valores que se definen en una función\n",
    "- Los argumentos son los valores que se introducen en una función"
   ]
  },
  {
   "cell_type": "code",
   "execution_count": 2,
   "id": "fde8fd83",
   "metadata": {},
   "outputs": [
    {
     "data": {
      "text/plain": [
       "15.0"
      ]
     },
     "execution_count": 2,
     "metadata": {},
     "output_type": "execute_result"
    }
   ],
   "source": [
    "# Argumentos por posición: Se envian en el mismo orden en que se definen los parametros\n",
    "area_triangulo(6, 5)"
   ]
  },
  {
   "cell_type": "code",
   "execution_count": 3,
   "id": "f316742a",
   "metadata": {},
   "outputs": [
    {
     "data": {
      "text/plain": [
       "25.0"
      ]
     },
     "execution_count": 3,
     "metadata": {},
     "output_type": "execute_result"
    }
   ],
   "source": [
    "# Arumentos por nombre: Se envian utilizando los nombres de los parametros.\n",
    "area_triangulo(base= 10, altura=5)"
   ]
  },
  {
   "cell_type": "markdown",
   "id": "2e4d3ca5",
   "metadata": {},
   "source": [
    "## Parametros Indeterminados\n",
    "\n",
    "- Se usan en los casos que es necesario pasar parametros indeterminados en las funciones."
   ]
  },
  {
   "cell_type": "code",
   "execution_count": 4,
   "id": "7d7f7590",
   "metadata": {},
   "outputs": [
    {
     "name": "stdout",
     "output_type": "stream",
     "text": [
      "1\n",
      "7\n",
      "89\n",
      "46\n",
      "9394\n"
     ]
    }
   ],
   "source": [
    "\"\"\"\n",
    "Arguentos por posición: se definen los parametros como lista dinamica, se incluye un (*) antes del nombre del\n",
    "parametro\n",
    "\"\"\"\n",
    "def imprime_numeros(*args):\n",
    "    for numero in args:\n",
    "        print(numero)\n",
    "        \n",
    "#Invocando la función\n",
    "imprime_numeros(1,7,89,46,9394)"
   ]
  },
  {
   "cell_type": "code",
   "execution_count": 7,
   "id": "ebb59b1f",
   "metadata": {},
   "outputs": [
    {
     "name": "stdout",
     "output_type": "stream",
     "text": [
      "arg1 => Hola\n",
      "arg2 => [2, 3, 4]\n",
      "arg3 => 876.98\n"
     ]
    }
   ],
   "source": [
    "\"\"\"\n",
    "Argumentos por Nombre: se definen los parametros como un diccionario dinamico se incluye dos (**) antes del \n",
    "nombre del parametro \n",
    "\"\"\"\n",
    "def imprime_valores(**args):\n",
    "    for argumento in args:\n",
    "        print(argumento, '=>', args[argumento])\n",
    "\n",
    "# Invocando la función\n",
    "imprime_valores(arg1='Hola', arg2=[2,3,4], arg3=876.98)"
   ]
  },
  {
   "cell_type": "markdown",
   "id": "32d7c03c",
   "metadata": {},
   "source": [
    "## Documentar funciones.\n",
    "\n",
    "- Para documentar las funciones se utilizan los docstring, se debe incluir un comentario despues de la cabecera de la función."
   ]
  },
  {
   "cell_type": "code",
   "execution_count": 8,
   "id": "acbc2490",
   "metadata": {},
   "outputs": [],
   "source": [
    "# Documentando una función.\n",
    "def potencia(base, exponente):\n",
    "    \"\"\"\n",
    "    Función que calcula la potencia de dos números.\n",
    "     \n",
    "    Argumentos:\n",
    "    base ‐‐ base de la operación.\n",
    "    exponente ‐‐ exponente de la operación.\n",
    "    \"\"\"\n",
    "    return base ** exponente"
   ]
  },
  {
   "cell_type": "code",
   "execution_count": 9,
   "id": "e4c7719f",
   "metadata": {},
   "outputs": [
    {
     "name": "stdout",
     "output_type": "stream",
     "text": [
      "Help on function potencia in module __main__:\n",
      "\n",
      "potencia(base, exponente)\n",
      "    Función que calcula la potencia de dos números.\n",
      "     \n",
      "    Argumentos:\n",
      "    base ‐‐ base de la operación.\n",
      "    exponente ‐‐ exponente de la operación.\n",
      "\n"
     ]
    }
   ],
   "source": [
    "# Invocando la ayuda de la función documentada.\n",
    "help(potencia)"
   ]
  },
  {
   "cell_type": "markdown",
   "id": "f45377b6",
   "metadata": {},
   "source": [
    "## Funciones incluidas en python\n",
    "\n",
    "- Modulo math: Modulo matematico que incluye funciones matematicas. (math)\n",
    "- Modulo aritmetico: para realizar operaciones aritmeticas => fabs(x), gcd(x,y), floor(x), ceil(x), factorial(x)\n",
    "- Modulo trigonometria: Para realizar calculos trigonometricos => sin(x), cos(x), tan(x), asin(x), acos(x)\n",
    "- Modulo sys: proporciona variables y metodos relacionados con el interprete de python.\n",
    "    - argv(): retorna lista con todos los argumentos pasados por linea de comandos\n",
    "    - executable(): retorna la ruta absoluta del fichero\n",
    "    - platform(): retorna la plataforma sobre la que se esta ejecutando.\n",
    "    - getdefaultenconding(): Retorna el sistema de codificación por defecto del sistema.\n",
    "- Modulo os: proporciona acceso a variables y funciones que interacturan con el sistema operativo.\n",
    "    - os.getcwd(): Retorna la ruta del directorio actual.\n",
    "    - os.mkdir(path): Crea una carpeta\n",
    "    - os.rename(name1, name2): Renombra un fichero\n",
    "    - ...... y muchos mas.\n",
    "- Modulo random: proporciona metodos para obtener valores aleatorios.\n",
    "    - randint(x, y): Retorna un numero aleatorio entre x e y\n",
    "    - choise(secuencia): retorna dato aleatorio de los datos de una secuencia.   "
   ]
  },
  {
   "cell_type": "markdown",
   "id": "35eb7683",
   "metadata": {},
   "source": [
    "## Funciones Anonimas.\n",
    "\n",
    "- Son funciones que no se les asigna identificador def NOMBRE_FUNCION estas funciones no incluyen un bloque solo tienen una unica expresión.\n",
    "- Para implementarlas se usa la expresión LAMBDA"
   ]
  },
  {
   "cell_type": "code",
   "execution_count": 13,
   "id": "8978ae49",
   "metadata": {},
   "outputs": [
    {
     "data": {
      "text/plain": [
       "25"
      ]
     },
     "execution_count": 13,
     "metadata": {},
     "output_type": "execute_result"
    }
   ],
   "source": [
    "# Función normal que recibe un numero y retorna el valor al cuadrado.\n",
    "def cuadrado(x):\n",
    "    resultado = x ** 2\n",
    "    return resultado\n",
    "\n",
    "# Invocando la función\n",
    "cuadrado(5)"
   ]
  },
  {
   "cell_type": "code",
   "execution_count": 14,
   "id": "45ae2c16",
   "metadata": {},
   "outputs": [
    {
     "data": {
      "text/plain": [
       "64"
      ]
     },
     "execution_count": 14,
     "metadata": {},
     "output_type": "execute_result"
    }
   ],
   "source": [
    "# Convirtiendo función normal en función lambda {lambda parámetro_1, parámetro_2: expresión}\n",
    "cuadrado = lambda x: x ** 2\n",
    "\n",
    "# Invocando la función\n",
    "cuadrado(8)"
   ]
  },
  {
   "cell_type": "markdown",
   "id": "6fe7bbdd",
   "metadata": {},
   "source": [
    "## Aplicando filter() map() con funciones lambda\n",
    "\n",
    "- filter(): Permmite filtrar elementos de una secuencia so se cumple la función condicional filter(funcion,objeto).\n",
    "- map(): permite aplicar una función a todos los elementos de una secuencia. map(funcion, objeto)."
   ]
  },
  {
   "cell_type": "code",
   "execution_count": 15,
   "id": "48b19bfc",
   "metadata": {},
   "outputs": [],
   "source": [
    "# Filter:\n",
    "# Definiendo lista de numeros para analizar.\n",
    "lista = [1,2,3,4,5,6,7,8,9,10]"
   ]
  },
  {
   "cell_type": "code",
   "execution_count": 16,
   "id": "cdb0a0b3",
   "metadata": {},
   "outputs": [],
   "source": [
    "# Definición de expresion landa que analiza si un numero es par o no\n",
    "es_par = lambda numero: numero % 2 == 0"
   ]
  },
  {
   "cell_type": "code",
   "execution_count": 17,
   "id": "3cbc8603",
   "metadata": {},
   "outputs": [
    {
     "data": {
      "text/plain": [
       "[2, 4, 6, 8, 10]"
      ]
     },
     "execution_count": 17,
     "metadata": {},
     "output_type": "execute_result"
    }
   ],
   "source": [
    "# Aplicando filtro para obtener los numeros pares, se debe insertar en una lista.\n",
    "list(filter(es_par, lista))"
   ]
  },
  {
   "cell_type": "code",
   "execution_count": 19,
   "id": "dd833631",
   "metadata": {},
   "outputs": [],
   "source": [
    "# Map:\n",
    "# Definiendo lista de numeros para analizar.\n",
    "lista = [1,2,3,4,5,6,7,8,9,10]"
   ]
  },
  {
   "cell_type": "code",
   "execution_count": 20,
   "id": "7dfe7196",
   "metadata": {},
   "outputs": [],
   "source": [
    "# Definición de expresion landa que saca el cuadrado del numero\n",
    "cuadrado = lambda x: x ** 2"
   ]
  },
  {
   "cell_type": "code",
   "execution_count": 21,
   "id": "7eaf75a8",
   "metadata": {},
   "outputs": [
    {
     "data": {
      "text/plain": [
       "[1, 4, 9, 16, 25, 36, 49, 64, 81, 100]"
      ]
     },
     "execution_count": 21,
     "metadata": {},
     "output_type": "execute_result"
    }
   ],
   "source": [
    "# Aplicando filtro para obtener numeros pares.\n",
    "list(map(cuadrado, lista))"
   ]
  },
  {
   "cell_type": "markdown",
   "id": "18cd107e",
   "metadata": {},
   "source": [
    "## Modulos y paquetes\n",
    "\n",
    "- Los modulos son los ficheros .py que se crean para un proyecto tienen variables y funciones\n",
    "- Un paquete es una carpeta que contiene varios modulos, importante los paquetes contienen lo siguiente.\n",
    "    - Un fichero llamado __init__.py que incluye los import\n",
    "- Ejemplo de un paquete.\n",
    "\n",
    "        paquete/\n",
    "        ├── __init__.py\n",
    "        ├── modulo1.py\n",
    "        └── modulo2.py"
   ]
  },
  {
   "cell_type": "code",
   "execution_count": 8,
   "id": "519511bf",
   "metadata": {},
   "outputs": [
    {
     "data": {
      "text/plain": [
       "31.41592653589793"
      ]
     },
     "execution_count": 8,
     "metadata": {},
     "output_type": "execute_result"
    }
   ],
   "source": [
    "# Creacion de un modulo.\n",
    "\"\"\"\n",
    "1. Crear un fichero con extencion .py\n",
    "2. Agregar las funciones al fichero.\n",
    "3. Almacenarlo en una carpeta.\n",
    "4. importarlo con la funcion import fichero.yml\n",
    "\"\"\"\n",
    "import figuras as fig\n",
    "\n",
    "fig.circunferencia.perimetro(5)"
   ]
  },
  {
   "cell_type": "code",
   "execution_count": 12,
   "id": "9c10125b",
   "metadata": {},
   "outputs": [
    {
     "data": {
      "text/plain": [
       "94.24777960769379"
      ]
     },
     "execution_count": 12,
     "metadata": {},
     "output_type": "execute_result"
    }
   ],
   "source": [
    "# Simplificando las importaciones con la palabra reservada FROM\n",
    "from figuras import circunferencia as circ\n",
    "from figuras import poligono as pol\n",
    "\n",
    "circ.perimetro(15)"
   ]
  },
  {
   "cell_type": "code",
   "execution_count": 17,
   "id": "9f011241",
   "metadata": {},
   "outputs": [
    {
     "name": "stdout",
     "output_type": "stream",
     "text": [
      "Help on module figuras.circunferencia in figuras:\n",
      "\n",
      "NAME\n",
      "    figuras.circunferencia\n",
      "\n",
      "FUNCTIONS\n",
      "    area(radio)\n",
      "    \n",
      "    perimetro(radio)\n",
      "\n",
      "FILE\n",
      "    /opt/notebooks/IntroduccionPython/figuras/circunferencia.py\n",
      "\n",
      "\n"
     ]
    }
   ],
   "source": [
    "#Documentando los modulos: Se puede usar las comillas \"\"\" docstring \"\"\" al iniciar el modulo.\n",
    "#Invocando la ayuda del modulo.\n",
    "from figuras import circunferencia\n",
    "help(circunferencia)"
   ]
  },
  {
   "cell_type": "code",
   "execution_count": 18,
   "id": "915e8aaa",
   "metadata": {},
   "outputs": [
    {
     "name": "stdout",
     "output_type": "stream",
     "text": [
      "Help on package figuras:\n",
      "\n",
      "NAME\n",
      "    figuras\n",
      "\n",
      "PACKAGE CONTENTS\n",
      "    circunferencia\n",
      "    poligono\n",
      "\n",
      "FILE\n",
      "    /opt/notebooks/IntroduccionPython/figuras/__init__.py\n",
      "\n",
      "\n"
     ]
    }
   ],
   "source": [
    "#Documentando los paquetes: Se puede usar las comillas \"\"\" docstring \"\"\" al iniciar el archivo __init__.py .\n",
    "#Invocando la ayuda del modulo.\n",
    "import figuras\n",
    "help(figuras)"
   ]
  },
  {
   "cell_type": "markdown",
   "id": "8d99be89",
   "metadata": {},
   "source": [
    "## Programación Orientada a Objetos.\n",
    "\n",
    "- Ub objeto es una abstracción de los datos con las caracteristicas.\n",
    "    - Tiene un Estado: El objeto tiene un valor concreto en un momento determinado.\n",
    "    - Tiene un comportamiento: A partir de un conjunto de metodos se puede modificar el estado del objeto.\n",
    "    - Tiene una identidad: Tienen un identificador que eprmite identificar al objeto en forma unica."
   ]
  },
  {
   "cell_type": "code",
   "execution_count": 20,
   "id": "37cf0aa9",
   "metadata": {},
   "outputs": [],
   "source": [
    "# Definiendo una clase como un objeto que tiene caracteristicas de comportamiento e identidad\n",
    "class Libro:\n",
    "    titulo = 'Don Quijote de la Mancha'\n",
    "    autor = 'Miguel de Cervantes'\n",
    "    isbn = '0987-7489'\n",
    "    editorial = 'Mi Editorial'\n",
    "    paginas = 934\n",
    "    edicion = 34"
   ]
  },
  {
   "cell_type": "code",
   "execution_count": 21,
   "id": "85a15e8a",
   "metadata": {},
   "outputs": [],
   "source": [
    "# Creando un objeto dee la clase Libro.\n",
    "mi_libro = Libro()"
   ]
  },
  {
   "cell_type": "code",
   "execution_count": 22,
   "id": "0b47c3c3",
   "metadata": {},
   "outputs": [
    {
     "data": {
      "text/plain": [
       "'Don Quijote de la Mancha'"
      ]
     },
     "execution_count": 22,
     "metadata": {},
     "output_type": "execute_result"
    }
   ],
   "source": [
    "# Consultando una caracteristica del nuevo objeto mi_libro creado a partir de la clase Libro.\n",
    "mi_libro.titulo"
   ]
  },
  {
   "cell_type": "code",
   "execution_count": 25,
   "id": "f1e371b7",
   "metadata": {},
   "outputs": [],
   "source": [
    "# Metodos: Son las funciones que definen que operaciones se puede realizar sobre los objetos\n",
    "class Libro:\n",
    "    titulo = 'Don Quijote de la Mancha'\n",
    "    autor = 'Miguel de Cervantes'\n",
    "    isbn = '0987-7489'\n",
    "    editorial = 'Mi Editorial'\n",
    "    paginas = 934\n",
    "    edicion = 34\n",
    "    \n",
    "    def imprime(self):\n",
    "        print(self.titulo + \" - \" + self.autor)"
   ]
  },
  {
   "cell_type": "code",
   "execution_count": 26,
   "id": "31081d2a",
   "metadata": {},
   "outputs": [
    {
     "name": "stdout",
     "output_type": "stream",
     "text": [
      "Don Quijote de la Mancha - Miguel de Cervantes\n"
     ]
    }
   ],
   "source": [
    "# Obteniendo el metodo imprime.\n",
    "\n",
    "# Creando un objeto dee la clase Libro.\n",
    "mi_libro = Libro()\n",
    "\n",
    "mi_libro.imprime()"
   ]
  },
  {
   "cell_type": "code",
   "execution_count": null,
   "id": "ed6bb47d",
   "metadata": {},
   "outputs": [],
   "source": []
  },
  {
   "cell_type": "code",
   "execution_count": null,
   "id": "43225cb8",
   "metadata": {},
   "outputs": [],
   "source": []
  },
  {
   "cell_type": "code",
   "execution_count": null,
   "id": "b787fbe9",
   "metadata": {},
   "outputs": [],
   "source": []
  },
  {
   "cell_type": "code",
   "execution_count": null,
   "id": "c3003a9c",
   "metadata": {},
   "outputs": [],
   "source": []
  },
  {
   "cell_type": "code",
   "execution_count": null,
   "id": "048d9a86",
   "metadata": {},
   "outputs": [],
   "source": []
  },
  {
   "cell_type": "code",
   "execution_count": null,
   "id": "b9333dd2",
   "metadata": {},
   "outputs": [],
   "source": []
  },
  {
   "cell_type": "code",
   "execution_count": null,
   "id": "7b2bec03",
   "metadata": {},
   "outputs": [],
   "source": []
  },
  {
   "cell_type": "code",
   "execution_count": null,
   "id": "5fb0a664",
   "metadata": {},
   "outputs": [],
   "source": []
  },
  {
   "cell_type": "code",
   "execution_count": null,
   "id": "620db532",
   "metadata": {},
   "outputs": [],
   "source": []
  },
  {
   "cell_type": "code",
   "execution_count": null,
   "id": "af0da02b",
   "metadata": {},
   "outputs": [],
   "source": []
  },
  {
   "cell_type": "code",
   "execution_count": null,
   "id": "36b6f035",
   "metadata": {},
   "outputs": [],
   "source": []
  },
  {
   "cell_type": "code",
   "execution_count": null,
   "id": "4eb36492",
   "metadata": {},
   "outputs": [],
   "source": []
  },
  {
   "cell_type": "code",
   "execution_count": null,
   "id": "bffa2889",
   "metadata": {},
   "outputs": [],
   "source": []
  },
  {
   "cell_type": "code",
   "execution_count": null,
   "id": "08e549cb",
   "metadata": {},
   "outputs": [],
   "source": []
  },
  {
   "cell_type": "code",
   "execution_count": null,
   "id": "5d62d79b",
   "metadata": {},
   "outputs": [],
   "source": []
  },
  {
   "cell_type": "code",
   "execution_count": null,
   "id": "a26f17f7",
   "metadata": {},
   "outputs": [],
   "source": []
  },
  {
   "cell_type": "code",
   "execution_count": null,
   "id": "cb59010d",
   "metadata": {},
   "outputs": [],
   "source": []
  },
  {
   "cell_type": "code",
   "execution_count": null,
   "id": "1b9fa27c",
   "metadata": {},
   "outputs": [],
   "source": []
  },
  {
   "cell_type": "code",
   "execution_count": null,
   "id": "00f6b34a",
   "metadata": {},
   "outputs": [],
   "source": []
  },
  {
   "cell_type": "code",
   "execution_count": null,
   "id": "4189c9f7",
   "metadata": {},
   "outputs": [],
   "source": []
  },
  {
   "cell_type": "code",
   "execution_count": null,
   "id": "c5aea55f",
   "metadata": {},
   "outputs": [],
   "source": []
  },
  {
   "cell_type": "code",
   "execution_count": null,
   "id": "aba14cca",
   "metadata": {},
   "outputs": [],
   "source": []
  },
  {
   "cell_type": "code",
   "execution_count": null,
   "id": "c347f682",
   "metadata": {},
   "outputs": [],
   "source": []
  },
  {
   "cell_type": "code",
   "execution_count": null,
   "id": "c71d7027",
   "metadata": {},
   "outputs": [],
   "source": []
  }
 ],
 "metadata": {
  "kernelspec": {
   "display_name": "Python 3 (ipykernel)",
   "language": "python",
   "name": "python3"
  },
  "language_info": {
   "codemirror_mode": {
    "name": "ipython",
    "version": 3
   },
   "file_extension": ".py",
   "mimetype": "text/x-python",
   "name": "python",
   "nbconvert_exporter": "python",
   "pygments_lexer": "ipython3",
   "version": "3.9.13"
  }
 },
 "nbformat": 4,
 "nbformat_minor": 5
}

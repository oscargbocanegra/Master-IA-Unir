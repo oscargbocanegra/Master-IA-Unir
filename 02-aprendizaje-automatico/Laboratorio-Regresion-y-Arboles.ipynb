{
 "cells": [
  {
   "attachments": {},
   "cell_type": "markdown",
   "metadata": {},
   "source": [
    "# Laboratorio Aprendizaje automático - Regresión Lineal y Árboles de Decisión\n",
    "\n",
    "- __Ejemplo de Preparación de datos + Análisis exploratorio de los datos__\n",
    "- __Explicación de la actividad__\n",
    "\n",
    "> _The most difficult thing in life is to know yourself - Tales de Mileto_"
   ]
  },
  {
   "attachments": {},
   "cell_type": "markdown",
   "metadata": {},
   "source": [
    "## Referencias recomendadas\n",
    "* Hair, J. F., Black, W. C., Babin, B. J., Anderson, R. E., & Tatham, R. L. (1998). Multivariate data analysis (Vol. 5, No. 3, pp. 207-219). Upper Saddle River, NJ: Prentice hall. (Chapter 2)\n",
    "\n",
    "* Larose, Daniel T., and Chantal D. Larose. Discovering Knowledge in Data : An Introduction to Data Mining, John Wiley & Sons, Incorporated, 2014. ProQuest Ebook Central. (En biblioteca UNIR).\n",
    "\n",
    "* Larose, Daniel T., and Chantal D. Larose. Data Mining and Predictive Analytics, John Wiley & Sons, Incorporated, 2015. ProQuest Ebook Central. (En biblioteca UNIR)."
   ]
  },
  {
   "attachments": {},
   "cell_type": "markdown",
   "metadata": {},
   "source": [
    "## Ejemplo de Preparación de datos + Análisis exploratorio de los datos\n",
    "\n",
    "El Análisis Exploratorio de Datos o en inglés Exploratory Data Analysis (EDA) es un método de análisis de los conjuntos de datos para resumir sus principales características.\n",
    "\n",
    "El EDA se refiere al proceso crítico de realizar investigaciones iniciales sobre los datos para descubrir patrones, detectar anomalías, probar hipótesis y verificar supuestos con ayuda de la estadística y representaciones gráficas.\n",
    "\n",
    "**¿Qué es?**. Conjunto de técnicas estadísticas dirigidas a explorar, describir y resumir la información que contienen los\n",
    "datos, maximizando su comprensión.\n",
    "\n",
    "> Gracias al EDA podemos: \n",
    "> - Realizar un análisis descriptivo de los datos.\n",
    "> - Identificar posibles errores.\n",
    "> - Revelar la presencia de datos atípicos.\n",
    "> - Comprobar la relación entre variables.\n",
    "\n",
    "Preguntas que habitualmente haremos a los datos:\n",
    "- ¿cuántos son y están todos?\n",
    "- ¿cuál es el tipo de datos de cada columna?\n",
    "- ¿existen registros nulos/perdidos/outliers?\n",
    "- MLsupervised. features vs target\n",
    "- MLsupervised - clasificación. ¿dataset balanceado?\n",
    "- ¿qué features parecen ser las más relevantes? (distribución, correlación)\n",
    "\n",
    "Después de realizar el EDA tenemos más información para abordar mejor la tarea de ML. Incluso para decidir si ML puede resolver la tarea o no.\n",
    "\n",
    "_Nota: esta tarea puede llevar horas (o algún día)._\n",
    "\n",
    "**¿Cuáles son los pasos a seguir??**\n",
    "\n",
    "- Análisis descriptivo.\n",
    "- Ajuste de tipos de variable.\n",
    "- Detección y tratamiento de datos ausentes.\n",
    "- Identificación de datos atípicos.\n",
    "- Corrrelación de variables."
   ]
  },
  {
   "cell_type": "code",
   "execution_count": null,
   "metadata": {},
   "outputs": [],
   "source": []
  },
  {
   "attachments": {},
   "cell_type": "markdown",
   "metadata": {},
   "source": [
    "Datos de ejemplo: https://archive.ics.uci.edu/ml/datasets/Bike+Sharing+Dataset"
   ]
  },
  {
   "cell_type": "code",
   "execution_count": null,
   "metadata": {},
   "outputs": [],
   "source": [
    "import numpy as np\n",
    "import pandas as pd"
   ]
  },
  {
   "cell_type": "code",
   "execution_count": null,
   "metadata": {},
   "outputs": [],
   "source": [
    "hourData = pd.read_csv('hour.csv')\n",
    "hourData.head()"
   ]
  },
  {
   "attachments": {},
   "cell_type": "markdown",
   "metadata": {},
   "source": [
    "**Primeros pasos**\n",
    "\n",
    "Conocer el número de filas y columnas para saber si se ha cargado completo el fichero, especialmente delicado en ficheros grandes, o para conocer si hay algún error en alguna linea.\n"
   ]
  },
  {
   "cell_type": "code",
   "execution_count": null,
   "metadata": {},
   "outputs": [],
   "source": [
    "hourData.shape"
   ]
  },
  {
   "cell_type": "code",
   "execution_count": null,
   "metadata": {},
   "outputs": [],
   "source": [
    "hourData.columns # nombre de las columnas"
   ]
  },
  {
   "attachments": {},
   "cell_type": "markdown",
   "metadata": {},
   "source": [
    " Información general del DF, podemos inferir si hay valores nulos."
   ]
  },
  {
   "cell_type": "code",
   "execution_count": null,
   "metadata": {
    "scrolled": true
   },
   "outputs": [],
   "source": [
    "hourData.info()"
   ]
  },
  {
   "attachments": {},
   "cell_type": "markdown",
   "metadata": {},
   "source": [
    "Información estadística sobre el dataset.\n",
    "\n",
    "Esta función muestra las caracterísitcas estadísticas básicas de cada variable numérica\n",
    "_number of non-missing values, mean, standard deviation, range, median, 0.25 and 0.75 quartiles._\n",
    "\n",
    "Los cuartiles son valores que dividen una muestra de datos en cuatro partes iguales. Utilizando cuartiles puede evaluar rápidamente la dispersión y la tendencia central de un conjunto de datos.\n"
   ]
  },
  {
   "cell_type": "code",
   "execution_count": null,
   "metadata": {},
   "outputs": [],
   "source": [
    "hourData.describe()"
   ]
  },
  {
   "cell_type": "code",
   "execution_count": null,
   "metadata": {},
   "outputs": [],
   "source": [
    "#dteday es la fecha, lo toma como categoría, nos indica cuántos hay en cada categoría\n",
    "hourData['dteday'].value_counts()"
   ]
  },
  {
   "attachments": {},
   "cell_type": "markdown",
   "metadata": {},
   "source": [
    "**Tomamos decisiones sobre los datos**"
   ]
  },
  {
   "attachments": {},
   "cell_type": "markdown",
   "metadata": {},
   "source": [
    "Normalizar las variables para que no afecten a aquellos algoritmos que las toman como de mayor importancia por tener valores grandes.\n",
    "\n",
    "En este dataset se encuentra normalizada la temperatura"
   ]
  },
  {
   "attachments": {},
   "cell_type": "markdown",
   "metadata": {},
   "source": [
    "**Resumen**\n",
    "\n",
    "Análisis descriptivo de los datos nos permite :\n",
    "* localizar errores en nuestro conjunto de datos, \n",
    "* detectar valores faltantes en columnas y eliminarlas (e.g: 30% faltantes o más) (o decidir alternativas completar, etc...)\n",
    "* analizar cómo se comportan las variables (distribuciones, tendencias, dependencias)"
   ]
  },
  {
   "cell_type": "code",
   "execution_count": null,
   "metadata": {},
   "outputs": [],
   "source": [
    "print(hourData['cnt'].describe())"
   ]
  },
  {
   "attachments": {},
   "cell_type": "markdown",
   "metadata": {},
   "source": [
    "**Preguntas finales**\n",
    "\n",
    "¿Los datos coinciden con las expectativas? ¿Parece que existe un problema de recopilación de datos? ¿Una clase aparece más frecuente que las otras clases? ¿Hay más valores que faltan o datos no válidos que los que esperaba?"
   ]
  },
  {
   "attachments": {},
   "cell_type": "markdown",
   "metadata": {},
   "source": [
    "**Análisis exploratorio de los datos (EDA)**\n",
    "\n",
    "\n"
   ]
  },
  {
   "cell_type": "code",
   "execution_count": null,
   "metadata": {},
   "outputs": [],
   "source": [
    "import seaborn as sns\n",
    "import matplotlib as mpl\n",
    "import matplotlib.pyplot as plt\n",
    "\n"
   ]
  },
  {
   "cell_type": "code",
   "execution_count": null,
   "metadata": {},
   "outputs": [],
   "source": [
    "# Preparamos una figura de m x n\n",
    "mpl.rc('font', size=14)\n",
    "mpl.rc('axes', titlesize=15)\n",
    "figure, axes = plt.subplots(nrows=3, ncols=2) # M 3rows 2columns\n",
    "figure.set_size_inches(10, 9) # Tamaño total de la figura\n",
    "\n",
    "# Distribución de alquileres según las features: season, month, day, hour, workingday\n",
    "\n",
    "sns.barplot(x='yr', y='cnt', data=hourData, ax=axes[0, 0])\n",
    "sns.barplot(x='mnth', y='cnt', data=hourData, ax=axes[0, 1])\n",
    "sns.barplot(x='workingday', y='cnt', data=hourData, ax=axes[1, 0])\n",
    "sns.barplot(x='hr', y='cnt', data=hourData, ax=axes[1, 1])\n",
    "sns.barplot(x='season', y='cnt', data=hourData, ax=axes[2,0])\n",
    "\n",
    "# Titulos\n",
    "axes[0, 0].set(title='Alquileres year')\n",
    "axes[0, 1].set(title='Alquileres month')\n",
    "axes[1, 0].set(title='Alquileres workingday')\n",
    "axes[1, 1].set(title='Alquileres hour')\n",
    "axes[2, 0].set(title='Alquileres season')\n",
    "# axes[2, 1].set(title='Alquileres by second')\n",
    "\n",
    "# Rotamos 90 grados las etiquetas del eje x de la fila 1\n",
    "axes[1, 0].tick_params(axis='x', labelrotation=90)\n",
    "axes[1, 1].tick_params(axis='x', labelrotation=90)"
   ]
  },
  {
   "cell_type": "code",
   "execution_count": null,
   "metadata": {
    "scrolled": true
   },
   "outputs": [],
   "source": [
    "# Creamos una figura de 2x2\n",
    "figure, axes = plt.subplots(nrows=2, ncols=2) # 2rows 2columns\n",
    "plt.tight_layout()\n",
    "figure.set_size_inches(10, 10)\n",
    "\n",
    "# Step 2 : Creamos los subgráficos\n",
    "# Gráfico de bigotes de los alquileres por season, weather, holiday, and workingday\n",
    "sns.boxplot(x='season', y='cnt', data=hourData, ax=axes[0, 0])\n",
    "sns.boxplot(x='weathersit', y='cnt', data=hourData, ax=axes[0, 1])\n",
    "sns.boxplot(x='holiday', y='cnt', data=hourData, ax=axes[1, 0])\n",
    "sns.boxplot(x='workingday', y='cnt', data=hourData, ax=axes[1, 1])\n",
    "\n",
    "# Step 3: Configuración de los subgráficos\n",
    "# titulo\n",
    "axes[0, 0].set(title='Box Plot On Count Across Season')\n",
    "axes[0, 1].set(title='Box Plot On Count Across Weather')\n",
    "axes[1, 0].set(title='Box Plot On Count Across Holiday')\n",
    "axes[1, 1].set(title='Box Plot On Count Across Working Day')\n",
    "\n",
    "# 3.2 eliminar que se sobrepongan los titulos\n",
    "axes[0, 1].tick_params('x', labelrotation=10) # rotate 10 degrees"
   ]
  },
  {
   "attachments": {
    "image.png": {
     "image/png": "[encoded data removed]"
    }
   },
   "cell_type": "markdown",
   "metadata": {},
   "source": [
    "Los gráficos de caja/bigotes (Box Plots) fueron originalmente desarrollados por M.E. Spear, permiten conocer cómo se distribuyen los datos dentro de una variable. \n",
    "\n",
    "A diferencia de los histogramas que requieren un tamaño de muestra de al menos 30 casos para ser útiles, los gráficos de caja pueden ser construidos con tan solo 5 casos y aportan más detalles acerca de las colas de la distribución.\n",
    "\n",
    "![image.png](attachment:image.png)\n",
    "\n",
    "* Mediana. Valor que deja a la mitad de los casos por encima y a la otra mitad por debajo.\n",
    "* Primer Cuartil (Q1). El 25% de los casos se encuentran por debajo de este valor.\n",
    "* Tercer Cuartil (Q3). El 75% de los casos se encuentran por encima de este valor.\n",
    "* Rango Intercuartílico (RIC). Es la diferencia entre el tercer y el primer cuartil.\n",
    "* Límites Superior o Inferior (Ls o Li). Ls contiene los casos por encima de Q3 más 1,5 veces el rango intercuartílico o Li por debajo de Q1 – 1,5xRIC (Estilo de Tukey). Cuando los valores no son posibles en lugar de emplear la aproximación anterior se escogen los valores máximo o mínimo de la muestra (Estilo de Spears).\n",
    "\n",
    "Los valores atípicos son aquellos que están más a allá de los límites inferior y superior. Cuando los valores atípicos están más allá de 3 veces el RIC en lugar del 1.5 son denominados valores extremos."
   ]
  },
  {
   "cell_type": "code",
   "execution_count": null,
   "metadata": {},
   "outputs": [],
   "source": [
    "import matplotlib.pyplot as plt\n",
    "\n",
    "plt.figure(figsize=(20,15))\n",
    "plt.subplot(421)\n",
    "hourData['season'].plot.hist(bins=10, color='blue', label='Histogram of Season', edgecolor='black')\n",
    "plt.legend(loc='best')\n",
    "plt.subplot(422)\n",
    "hourData['weathersit'].plot.hist(bins=10, color='green', label='Histogram of Weather', edgecolor='black')\n",
    "plt.legend(loc='best')\n",
    "plt.subplot(423)\n",
    "hourData['hum'].plot.hist(bins=10, color='orange', label='Histogram of Humidity', edgecolor='black')\n",
    "plt.legend(loc='best')\n",
    "plt.subplot(424)\n",
    "hourData['holiday'].plot.hist(bins=10, color='pink', label='Histogram of Holiday', edgecolor='black')\n",
    "plt.legend(loc='best')\n",
    "plt.subplot(425)\n",
    "hourData['workingday'].plot.hist(bins=10, color='red', label='Histogram of Working Day', edgecolor='black')\n",
    "plt.legend(loc='best')\n",
    "plt.subplot(426)\n",
    "hourData['temp'].plot.hist(bins=10, color='yellow', label='Histogram of Temperature', edgecolor='black')\n",
    "plt.legend(loc='best')\n",
    "plt.subplot(427)\n",
    "hourData['atemp'].plot.hist(bins=10, color='cyan', label='Histogram of Feels Like Temp', edgecolor='black')\n",
    "plt.legend(loc='best')\n",
    "plt.subplot(428)\n",
    "hourData['windspeed'].plot.hist(bins=10, color='purple', label='Histogram of Windpseed', edgecolor='black')\n",
    "plt.legend(loc='best')\n",
    "plt.tight_layout();"
   ]
  },
  {
   "attachments": {},
   "cell_type": "markdown",
   "metadata": {},
   "source": [
    "Podemos hacer algunas inferencias de los datos observando estos histogramas:\n",
    "* Season tiene cuatro categorías de distribución casi igual\n",
    "* El clima 1 tiene una mayor contribución, es decir, un clima mayormente despejado.\n",
    "* Las variables de temperatura, sensación térmica, humedad y velocidad del viento se ven normalmente distribuidas."
   ]
  },
  {
   "cell_type": "code",
   "execution_count": null,
   "metadata": {},
   "outputs": [],
   "source": [
    "hourData = hourData.drop(columns=['instant', 'dteday', 'casual', 'registered'])\n",
    "# hourData = hourData.drop(columns=['instant', 'dteday'])"
   ]
  },
  {
   "attachments": {},
   "cell_type": "markdown",
   "metadata": {},
   "source": [
    "Podríamos analizar muchas más cosas, para entender mejor nuestros datos y conseguir afinar la predicción realizando algunas hipótesis. Por ejemplo:\n",
    "* Tendencias horarias en el alquiler (datetime variable)\n",
    "* Influencia del tiempo en el alquiler (extraer buen tiempo y mal tiempo por estaciones y estudiar alquileres)\n",
    "* Cuándo hay más alquileres por estación\n",
    "* Las bicicletas se alquilan principalmente para desplazamientos matutinos / vespertinos durante la semana, y sobre todo paseos diurnos los fines de semana.\n",
    "* Patrones de alquiler entre usuarios registrados y ocasionales.\n",
    "* Los días laborables, la mayoría de las bicicletas se alquilan en mañanas y noches cálidas.\n"
   ]
  },
  {
   "attachments": {},
   "cell_type": "markdown",
   "metadata": {},
   "source": [
    "**Estudio de correlaciones**\n",
    "\n",
    "Conocer la correlación entre cada variable y la variable objetivo es útil, ya que una correlación alta* implica que existe una relación entre la variable y la variable objetivo. En general, es recomendable incluir variables con una correlación alta porque son las que tienen mayor poder predictivo y omitir variables con una correlación baja porque es probable que sean irrelevantes.\n",
    "\n",
    "La correlación se encarga de medir la relación entre dos variables, esto no implica necesariamente causalidad pero puede ser útil para predicciones. La correlación significa que dos variables tienen algún tipo de relación detectable, mientras que la causalidad implicaría que una variable influye directamente en la otra.\n",
    "\n",
    "Hay varios tipos de correlación, la más utilizada es la de Pearson o lineal, seguida por la Spearman y Kendall.\n",
    "\n",
    "_Coeficiente de correlación de Pearson_\n",
    "\n",
    "La correlación de Pearson es la más intuitiva y sencilla, debido a esto suele ser la primera opción al medir correlaciones. Calcular el coeficiente de correlación de Pearson nos da un número que puede ir del -1 al 1. El primer valor indica una correlación perfectamente negativa, mientras que el segundo indica una correlación perfectamente positiva. Un valor de 0 por otro lado indicaría una correlación nula.\n",
    "Decimos entonces que cuanto más cerca esté del 1 o -1 el valor de correlación la relación entre esas dos variables es más fuerte, debilitándose al acercarse al 0."
   ]
  },
  {
   "cell_type": "code",
   "execution_count": null,
   "metadata": {},
   "outputs": [],
   "source": [
    "# Calcula coeficiente de correlación de Pearson\n",
    "corr = hourData.corr(method ='pearson') #por defecto Pearson ¿existe relación lineal entre variables?"
   ]
  },
  {
   "cell_type": "code",
   "execution_count": null,
   "metadata": {
    "scrolled": true
   },
   "outputs": [],
   "source": [
    "# HeatMap con tamaño ampliado, cuadrado, divergencia con colores y con anotaciones de 2 decimales\n",
    "plt.figure(figsize=(20,12))\n",
    "ax = sns.heatmap(\n",
    " corr,\n",
    " vmin=-1, vmax=1, center=0,\n",
    " cmap=sns.diverging_palette(20, 220, n=200),\n",
    " square=True, annot=True, fmt=\".2f\"\n",
    ")\n",
    "# Rota las etiquetas del eje horizontal\n",
    "ax.set_xticklabels(\n",
    " ax.get_xticklabels(),\n",
    " rotation=45,\n",
    " horizontalalignment='right'\n",
    ")"
   ]
  },
  {
   "attachments": {},
   "cell_type": "markdown",
   "metadata": {},
   "source": [
    "**Pregunta final**\n",
    "\n",
    "¿podemos reducir la dimensionalidad de nuestros datos? ¿qué variables van a ser más relevantes en nuestros modelos?\n",
    "\n",
    "En este ejemplo podemos eliminar instant y dteday y también casual y registered ya que no aportan información y añaden dependencia a la variable objetivo (c+r = cnt)"
   ]
  },
  {
   "cell_type": "code",
   "execution_count": null,
   "metadata": {},
   "outputs": [],
   "source": [
    "hourData = hourData.drop(columns=['atemp'])\n"
   ]
  },
  {
   "cell_type": "code",
   "execution_count": null,
   "metadata": {},
   "outputs": [],
   "source": [
    "hourData.shape"
   ]
  },
  {
   "cell_type": "code",
   "execution_count": null,
   "metadata": {},
   "outputs": [],
   "source": [
    "hourData"
   ]
  },
  {
   "cell_type": "code",
   "execution_count": null,
   "metadata": {},
   "outputs": [],
   "source": [
    "X_hourData = hourData.drop(columns=['cnt'])"
   ]
  },
  {
   "attachments": {},
   "cell_type": "markdown",
   "metadata": {},
   "source": []
  },
  {
   "cell_type": "code",
   "execution_count": null,
   "metadata": {},
   "outputs": [],
   "source": []
  },
  {
   "cell_type": "code",
   "execution_count": null,
   "metadata": {},
   "outputs": [],
   "source": []
  },
  {
   "cell_type": "code",
   "execution_count": null,
   "metadata": {},
   "outputs": [],
   "source": []
  },
  {
   "cell_type": "code",
   "execution_count": null,
   "metadata": {},
   "outputs": [],
   "source": []
  },
  {
   "cell_type": "code",
   "execution_count": null,
   "metadata": {},
   "outputs": [],
   "source": []
  },
  {
   "cell_type": "code",
   "execution_count": null,
   "metadata": {},
   "outputs": [],
   "source": []
  },
  {
   "cell_type": "code",
   "execution_count": null,
   "metadata": {},
   "outputs": [],
   "source": []
  },
  {
   "cell_type": "code",
   "execution_count": null,
   "metadata": {},
   "outputs": [],
   "source": []
  },
  {
   "cell_type": "code",
   "execution_count": null,
   "metadata": {},
   "outputs": [],
   "source": []
  },
  {
   "cell_type": "code",
   "execution_count": null,
   "metadata": {},
   "outputs": [],
   "source": []
  },
  {
   "cell_type": "code",
   "execution_count": null,
   "metadata": {
    "scrolled": false
   },
   "outputs": [],
   "source": []
  },
  {
   "cell_type": "code",
   "execution_count": null,
   "metadata": {},
   "outputs": [],
   "source": []
  }
 ],
 "metadata": {
  "kernelspec": {
   "display_name": "Python 3 (ipykernel)",
   "language": "python",
   "name": "python3"
  },
  "language_info": {
   "codemirror_mode": {
    "name": "ipython",
    "version": 3
   },
   "file_extension": ".py",
   "mimetype": "text/x-python",
   "name": "python",
   "nbconvert_exporter": "python",
   "pygments_lexer": "ipython3",
   "version": "3.11.3"
  }
 },
 "nbformat": 4,
 "nbformat_minor": 2
}

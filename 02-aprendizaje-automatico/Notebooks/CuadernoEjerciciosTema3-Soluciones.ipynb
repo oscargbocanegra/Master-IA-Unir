{
 "cells": [
  {
   "cell_type": "markdown",
   "id": "03ea6786",
   "metadata": {},
   "source": [
    "# Tema 3: Evaluación de algoritmos de clasificación\n",
    "## Cuaderno de ejercicios"
   ]
  },
  {
   "cell_type": "markdown",
   "id": "986987d5",
   "metadata": {},
   "source": [
    "**Ejercicio 1**\n",
    "\n",
    "Supongamos que hemos utilizado un clasificador, por ejemplo, Naive Bayes, para clasificar documentos con respecto al sentimiento. Las clases son Pos (positivo), Neg (negativo) y Neu (neutro). Probamos nuestro clasificador en 10 documentos para los que conocemos su _gold standar_ (clase real). La prueba tiene los siguientes resultados:\n",
    "\n",
    "| Documento | Clase Real | Clase predicha |\n",
    "| ------------- | ------------- | ------------- |\n",
    "| d1  | Pos  | Pos |\n",
    "| d2  | Pos  | Pos |\n",
    "| d3  | Pos  | Pos |\n",
    "| d4  | Pos  | Neu |\n",
    "| d5  | Neg  | Neg |\n",
    "| d6  | Neg  | Neu |\n",
    "| d7  | Neg  | Neg |\n",
    "| d8  | Neu  | Pos |\n",
    "| d9  | Neu  | Neu |\n",
    "| d10  | Neu  | Neu |\n",
    "\n",
    "Calcular: precision, recall, accuracy y F1 para estos resultados de clasificación para las tres clases."
   ]
  },
  {
   "cell_type": "markdown",
   "id": "ba504495",
   "metadata": {},
   "source": [
    "Precicion (Pos, Neg, Neu): `array([0.75, 1.  , 0.5 ]),`\n",
    "\n",
    "Recall (Pos, Neg, Neu): `array([0.75      , 0.66666667, 0.66666667]),`\n",
    "\n",
    "F1 (Pos, Neg, Neu): `array([0.75      , 0.8       , 0.57142857]),`"
   ]
  },
  {
   "cell_type": "markdown",
   "id": "c5550a2b",
   "metadata": {},
   "source": [
    "**Ejercicio 2**\n",
    "\n",
    "Se evaluó un clasificador binario utilizando un conjunto de 1000 ejemplos de prueba (test) en los que el 50 % de todos los ejemplos son negativos. El clasificador tiene 60 % de sensitivity y 70 % de accuracy. Escribe la matriz de confusión."
   ]
  },
  {
   "cell_type": "markdown",
   "id": "290a6fc4",
   "metadata": {},
   "source": [
    "| |actual 1| actual 0|\n",
    "| ---| --- | --- |\n",
    "| predicted 1 | TP | FP |\n",
    "| predicted 0 | FN | TN |\n",
    "\n",
    "\n",
    "| |actual 1| actual 0|\n",
    "| ---| --- | --- |\n",
    "| predicted 1 | 300 | 100 |\n",
    "| predicted 0 | 200 | 400 |"
   ]
  },
  {
   "cell_type": "markdown",
   "id": "98679afa",
   "metadata": {},
   "source": [
    "**Ejercicio 3**\n",
    "\n",
    "Utilizando la matriz de confusión creada en el ejercicio anterior, calcula la precisión del clasificador, la medida F1 y\n",
    "especificidad."
   ]
  },
  {
   "cell_type": "markdown",
   "id": "8be684c5",
   "metadata": {},
   "source": [
    "precision = 0.75\n",
    "\n",
    "F1 =  0.6666666666666665\n",
    "\n",
    "Especificidad = 0.8\n"
   ]
  },
  {
   "cell_type": "code",
   "execution_count": null,
   "id": "9fc02e2e",
   "metadata": {},
   "outputs": [],
   "source": []
  }
 ],
 "metadata": {
  "kernelspec": {
   "display_name": "Python 3 (ipykernel)",
   "language": "python",
   "name": "python3"
  },
  "language_info": {
   "codemirror_mode": {
    "name": "ipython",
    "version": 3
   },
   "file_extension": ".py",
   "mimetype": "text/x-python",
   "name": "python",
   "nbconvert_exporter": "python",
   "pygments_lexer": "ipython3",
   "version": "3.8.18"
  }
 },
 "nbformat": 4,
 "nbformat_minor": 5
}

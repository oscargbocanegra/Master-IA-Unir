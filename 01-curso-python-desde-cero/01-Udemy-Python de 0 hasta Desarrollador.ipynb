{
 "cells": [
  {
   "cell_type": "markdown",
   "id": "5f97cb62",
   "metadata": {},
   "source": [
    "# Introduccion a Python\n",
    "\n",
    "## ¿Que es Python?\n",
    "  Lenguaje de programación ultimamente usado para temas de ciencias de datos, Inteligencia Artificial y Back End.\n",
    " \n",
    " ## Guia de Estilos Python PEP8\n",
    "Fuente: https://www.python.org/dev/peps/pep0008/\n",
    "\n",
    "# Ventajas de Python.\n",
    "## Tipado dinamico.\n",
    "Python no necesita que se definan el tipo de variable como se hacen con otros lenguajes de programación, Cuando se inicializa una variable, python le asigna el tipo de Valor.\n",
    "\n",
    "## Lenguaje Multiparadigma.\n",
    "Python permite aplicar diferentes paradigmas como Programación orientada a objetos, Java, Programación Imperativa, Programación Funcional.\n",
    "\n",
    "## Interpretado / Scripts.\n",
    "Python se puede ejecutar de forma interpretada o usando scripts, por medio de consolas ejecutando instrucciones.\n",
    "\n",
    "## Extensible.\n",
    "Python tiene una gran cantidad de modulos y librerias que lo hacen extensible y se pueden ejecutar multiples funcionalidades.\n",
    "\n",
    "# Pagina principal para instalación de python.\n",
    "Fuente: https://www.python.org/downloads/"
   ]
  },
  {
   "cell_type": "markdown",
   "id": "4f181e21",
   "metadata": {},
   "source": [
    "# TEMA 1: Creando Hola mundo .\n",
    "- Se crea un archivo de extensión .py"
   ]
  },
  {
   "cell_type": "code",
   "execution_count": 9,
   "id": "bf6d7550",
   "metadata": {},
   "outputs": [
    {
     "name": "stdout",
     "output_type": "stream",
     "text": [
      "Hola Mundo\n"
     ]
    }
   ],
   "source": [
    "# Identificadores correctos.\n",
    "print('Hola Mundo')"
   ]
  },
  {
   "cell_type": "markdown",
   "id": "eb65e524",
   "metadata": {},
   "source": [
    "## Variables y tipos de datos.\n",
    "- Dato: es la unidad minima en un programa, letra, numeros, etc.\n",
    "- Variable: Un espacio en memoria y el espacio que se le asigna a un dato.\n",
    "\n",
    "## Reglas de las variables.\n",
    "- No pueden iniciar con numero.\n",
    "- No pueden llevar caracteres especiales.\n",
    "- No pueden llevar noombre de palabras especiales.\n",
    "\n",
    "## Algunas Palabras reservadas.\n",
    "and, assert, break, class, continue, def, del, elif, else, except, exec, finally, for, from, global, if, import, \n",
    "in, is, lambda, not, or, pass, print, raise, return, try, while, with, yield.\n",
    "\n",
    "## Tipos de datos.\n",
    "- Entero.\n",
    "- Flotante.\n",
    "- Cadena de texto."
   ]
  },
  {
   "cell_type": "code",
   "execution_count": 10,
   "id": "52f5387f",
   "metadata": {},
   "outputs": [
    {
     "name": "stdout",
     "output_type": "stream",
     "text": [
      "<class 'str'>\n",
      "nombre\n",
      "<class 'int'>\n",
      "8976\n",
      "<class 'float'>\n",
      "3.14\n"
     ]
    }
   ],
   "source": [
    "# Imprimiendo variables.\n",
    "\n",
    "nombre = (\"nombre\")\n",
    "numero = (8976)\n",
    "flotante = 3.14\n",
    "\n",
    "print(type(nombre))\n",
    "print(nombre)\n",
    "\n",
    "print(type(numero))\n",
    "print(numero)\n",
    "\n",
    "print(type(flotante))\n",
    "print(flotante)"
   ]
  },
  {
   "cell_type": "markdown",
   "id": "45d824e9",
   "metadata": {},
   "source": [
    "## Imprimiendo palabras reservadas."
   ]
  },
  {
   "cell_type": "code",
   "execution_count": 11,
   "id": "d1cf424d",
   "metadata": {},
   "outputs": [
    {
     "name": "stdout",
     "output_type": "stream",
     "text": [
      "['False', 'None', 'True', 'and', 'as', 'assert', 'async', 'await', 'break', 'class', 'continue', 'def', 'del', 'elif', 'else', 'except', 'finally', 'for', 'from', 'global', 'if', 'import', 'in', 'is', 'lambda', 'nonlocal', 'not', 'or', 'pass', 'raise', 'return', 'try', 'while', 'with', 'yield']\n"
     ]
    }
   ],
   "source": [
    "import keyword\n",
    "print(keyword.kwlist)"
   ]
  },
  {
   "cell_type": "markdown",
   "id": "5ce76b0e",
   "metadata": {},
   "source": [
    "## Variables y Constantes.\n",
    "- Las variables pueden cambiar y almacenan diversos datos.\n",
    "- Las constantes no cambian.\n",
    "  - Se definen en MAYUSCULAS para"
   ]
  },
  {
   "cell_type": "code",
   "execution_count": 14,
   "id": "867c6e38",
   "metadata": {},
   "outputs": [
    {
     "name": "stdout",
     "output_type": "stream",
     "text": [
      "100\n",
      "120\n",
      "130\n",
      "3.14\n"
     ]
    }
   ],
   "source": [
    "# Imprimiendo Variables.\n",
    "cantidadPersonas = 100\n",
    "print(cantidadPersonas)\n",
    "\n",
    "cantidadPersonas = 120\n",
    "print(cantidadPersonas)\n",
    "\n",
    "cantidadPersonas = 130\n",
    "print(cantidadPersonas)\n",
    "\n",
    "# Imprimiendo CONSTANTES.\n",
    "PI = 3.14\n",
    "print(PI)"
   ]
  },
  {
   "cell_type": "markdown",
   "id": "5fe0c736",
   "metadata": {},
   "source": [
    "## Comentarios en Python.\n",
    "- Un comentario en python es un mensaje que se pone en el codigo y funciona como guia o referencia del codigo.\n",
    "- Para comentar en varias lineas se usar la triple comilla simple'''comentario '''"
   ]
  },
  {
   "cell_type": "code",
   "execution_count": 16,
   "id": "c193f01c",
   "metadata": {},
   "outputs": [
    {
     "name": "stdout",
     "output_type": "stream",
     "text": [
      "Oscar Giovanni\n",
      "Oscar\n",
      "Giovanni\n"
     ]
    }
   ],
   "source": [
    "# Variable que contiene el nombre.\n",
    "nombre = \"Oscar Giovanni\" \n",
    "print(nombre)\n",
    "\n",
    "'''\n",
    "Comentarios de doble linea usando triple comilla sencilla.\n",
    "'''\n",
    "\n",
    "nombre1, nombre2 = 'Oscar', 'Giovanni'\n",
    "print(nombre1)\n",
    "print(nombre2)"
   ]
  },
  {
   "cell_type": "markdown",
   "id": "7e08a183",
   "metadata": {},
   "source": [
    "# Convertir numeros de entero a float y vice versa.\n",
    "- Para convertir numeros de entero a float, se usa la funcion flfoat(int).\n",
    "- Para convertir numeros de float a entero, se usa la funcion int(float)."
   ]
  },
  {
   "cell_type": "code",
   "execution_count": 23,
   "id": "b931371b",
   "metadata": {},
   "outputs": [
    {
     "name": "stdout",
     "output_type": "stream",
     "text": [
      "<class 'int'>\n",
      "40\n",
      "<class 'float'>\n",
      "40.0\n",
      "<class 'float'>\n",
      "99.0\n",
      "<class 'int'>\n",
      "99\n"
     ]
    }
   ],
   "source": [
    "num1 = 40\n",
    "num2 = 99.00\n",
    "# Convirtiendo una variable entera en flotante.\n",
    "print(type(num1))\n",
    "print(num1)\n",
    "float1 = float(num1)\n",
    "print(type(float1))\n",
    "print(float1)\n",
    "\n",
    "# Convirtiendo una variable floatante a entera.\n",
    "print(type(num2))\n",
    "print(num2)\n",
    "int1 = int(num2)\n",
    "print(type(int1))\n",
    "print(int1)\n"
   ]
  },
  {
   "cell_type": "markdown",
   "id": "894dc549",
   "metadata": {},
   "source": []
  }
 ],
 "metadata": {
  "kernelspec": {
   "display_name": "Python 3 (ipykernel)",
   "language": "python",
   "name": "python3"
  },
  "language_info": {
   "codemirror_mode": {
    "name": "ipython",
    "version": 3
   },
   "file_extension": ".py",
   "mimetype": "text/x-python",
   "name": "python",
   "nbconvert_exporter": "python",
   "pygments_lexer": "ipython3",
   "version": "3.11.3"
  }
 },
 "nbformat": 4,
 "nbformat_minor": 5
}
